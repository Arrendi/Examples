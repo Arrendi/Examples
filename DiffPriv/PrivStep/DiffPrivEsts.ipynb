{
 "cells": [
  {
   "cell_type": "markdown",
   "metadata": {},
   "source": [
    "Worksheet showing additional calculations for:\n",
    "   http://www.win-vector.com/blog/2015/10/a-simple-differentially-private-procedure/"
   ]
  },
  {
   "cell_type": "code",
   "execution_count": 1,
   "metadata": {
    "collapsed": true
   },
   "outputs": [],
   "source": [
    "import sympy"
   ]
  },
  {
   "cell_type": "markdown",
   "metadata": {},
   "source": [
    "We are going to run a simple experiment.  We have two data sets of size n.  One is all zeros (S0), and one is has one one (S1). We are returning \"garbled\" results and want to see how often an adversary sees the measurement on the set with a 1 as strictly larger than the set without the 1.\n",
    "\n",
    "First we could estimate the parameters needed for differential privacy (a different and stronger condition) through adding Laplace noise.\n",
    "\n"
   ]
  },
  {
   "cell_type": "code",
   "execution_count": 2,
   "metadata": {
    "collapsed": false
   },
   "outputs": [
    {
     "name": "stdout",
     "output_type": "stream",
     "text": [
      "2/(epsilon**2*n**2)\n"
     ]
    }
   ],
   "source": [
    "# Estimate the Laplace parameter needed to establish epsilon differential privacy\n",
    "# (by adding Laplace noise) and see what variance this yields.\n",
    "# Facts needed:\n",
    "#  MaclaurinSeries (for estimates)\n",
    "#  Definition of differential privacy \n",
    "#    http://www.win-vector.com/blog/2015/10/a-simpler-explanation-of-differential-privacy/\n",
    "#  CDF and variance of Laplace distribution as a function of parameter \"b\"\n",
    "#    https://en.wikipedia.org/wiki/Laplace_distribution\n",
    "[n,bInv,epsilon] =  sympy.symbols(['n','bInv','epsilon'])\n",
    "\n",
    "def MaclaurinSeries(expr,var):\n",
    "    f0 = sympy.simplify(expr.subs(var,0))\n",
    "    if((len(f0.free_symbols)==0) and (abs(float(f0))<1.0e-10)):\n",
    "        f0 = 0\n",
    "    f1 = sympy.simplify(sympy.diff(expr,var).subs(var,0))\n",
    "    if((len(f1.free_symbols)==0) and (abs(float(f1))<1.0e-10)):\n",
    "        f1 = 0\n",
    "    return f0 + var*f1\n",
    "\n",
    "# Set1 (n zeros) has expected frequency 0, Set2 has expected frequency 1/n\n",
    "# So advesary places a cutpoint between these at 1/2n to try and observe the difference.\n",
    "# We work out how often advesary s a difference.\n",
    "cutpoint = 1/(2*n)\n",
    "mu1 = 0\n",
    "# cutpoint > mu\n",
    "LaplaceCDF1 = 1 - 0.5*sympy.exp(-bInv*(cutpoint-mu1))\n",
    "mu2 = 1/n\n",
    "# cutpoint < mu\n",
    "LaplaceCDF2 = 0.5*sympy.exp(-bInv*(mu2-cutpoint))\n",
    "logRat = sympy.log(LaplaceCDF1/LaplaceCDF2)\n",
    "#print(logRat)\n",
    "pError = MaclaurinSeries(logRat,bInv)\n",
    "#print(pError)\n",
    "b = 1/sympy.solve(pError-epsilon,bInv)[0]\n",
    "#print(b)\n",
    "variance = 2*b*b\n",
    "print(variance)"
   ]
  },
  {
   "cell_type": "markdown",
   "metadata": {},
   "source": [
    "Or we could look at the Laplace noise to the counts before they are returned (the method used in differential privacy). We want to see P[count(S1) + NoiseA > count(S0) + NoiseB ] - P[count(S0) + NoiseA > count(S0) + NoiseB ] (very roughly how much leaking is going on).  This simplifies to P[1 + NoiseA > Noise B] - P[NoiseA > NoiseB]. Or if z = P[NoiseA==NoiseB]: ( (1-z)/2 + z ) - ((1-z)/2) = z.  For the Laplace distribution with mean zero and variance 2 b^2 we have z = (1/(4 b^2)) sum_{x=-inf}^{+inf} e^(-x^2/b) (the sum of the PDF squared).  We want a b such that this is equal to epsilon.  And then variance is 2*b^2 / n^2 (after scaling by 1/n to convert counts to factions).  From the normal distribution we know sum_{x=-inf}^{+inf} e^(-x^2/b) is approximately sqrt(pi b).  So z ~ (1/(4 b^2)) sqrt(pi b) ~ epsilon.  So b ~ (pi / (16 epsilon^2))^(1/3).  Or variance = (pi/16)^(2/3) epsilon^(-4/3) n^(-2). "
   ]
  },
  {
   "cell_type": "markdown",
   "metadata": {},
   "source": [
    "Another method is bootstrapping.  It may establish some sort of indistinguishableness, but not differential privacy. has the disadvantage of only returning \"indistinguishable\" or \"correct difference\" (never returning a reversed order, which would help hide things)."
   ]
  },
  {
   "cell_type": "code",
   "execution_count": 3,
   "metadata": {
    "collapsed": false
   },
   "outputs": [
    {
     "name": "stdout",
     "output_type": "stream",
     "text": [
      "1/(epsilon*n**2)\n"
     ]
    }
   ],
   "source": [
    "# Estimate the sample size needed to work an indistinguishability example \n",
    "# by Bootstrap methods, and the variance of that method.\n",
    "#   facts from http://www.win-vector.com/blog/2015/10/a-simple-differentially-private-procedure/\n",
    "[n,Z,epsilon] = sympy.symbols(['n','Z','epsilon'])\n",
    "# we draw (with replacement) n/Z samples from a set of size n that has n-1 zeros and 1 one.\n",
    "# Error if we draw the 1 one or more times (which would allow an advesary to see a differenece between this set and\n",
    "# an all zeros set). \n",
    "# The expected number of 1s in the draw is (n/Z)*(1/n) = 1/Z\n",
    "# By Markov's inequality this gives us pError <= 1/Z\n",
    "pError = 1/Z\n",
    "Z = sympy.solve(pError-epsilon,Z)[0]\n",
    "#print(Z)\n",
    "# The process of counting how many 1s show up in the Bootstrap (with replacement) \n",
    "# sample is Poisson with intensity equal to the mean.  The mean is 1/Z (above).\n",
    "# So the count is a mean 1/Z variance 1/Z random variable.  We actually return\n",
    "# frequency which is count/bootStrapSize = count/(n/Z).  Variance scales as a square\n",
    "# so the new variance is (1/Z)/(n/Z)**2.  And we are done.\n",
    "var = (1/Z)/(n/Z)**2\n",
    "print(var)"
   ]
  }
 ],
 "metadata": {
  "kernelspec": {
   "display_name": "Python 3",
   "language": "python",
   "name": "python3"
  },
  "language_info": {
   "codemirror_mode": {
    "name": "ipython",
    "version": 3
   },
   "file_extension": ".py",
   "mimetype": "text/x-python",
   "name": "python",
   "nbconvert_exporter": "python",
   "pygments_lexer": "ipython3",
   "version": "3.4.3"
  }
 },
 "nbformat": 4,
 "nbformat_minor": 0
}
