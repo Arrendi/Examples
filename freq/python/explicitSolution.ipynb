{
 "metadata": {
  "name": "",
  "signature": "sha256:b5b18f0a36b8ce9b8585a13bff73c39a6ff54a073efae7bc6cad7df60def668b"
 },
 "nbformat": 3,
 "nbformat_minor": 0,
 "worksheets": [
  {
   "cells": [
    {
     "cell_type": "code",
     "collapsed": false,
     "input": [
      "import sympy\n",
      "\n",
      "\n",
      "# expecting a dictionary solution\n",
      "def isGoodSoln(si):\n",
      "   def isGoodVal(x):\n",
      "      xn = complex(x)\n",
      "      xr = xn.real\n",
      "      xi = xn.imag\n",
      "      return (abs(xi)<1.0e-6) and (xr>0.0) and (xr<1.0)\n",
      "   return all([ isGoodVal(xi) for xi in si.values() ])\n",
      "\n",
      "\n",
      "# only good for k>=1\n",
      "def solveKz(k):\n",
      "   vars = sympy.symbols(['phi' + str(i) for i in range((k+1)/2)])\n",
      "   if k%2!=0:\n",
      "      phis = vars + [1-varsi for varsi in reversed(vars) ]\n",
      "   else:\n",
      "      phis = vars + [sympy.Rational(1,2)] + [1-varsi for varsi in reversed(vars) ]\n",
      "   z = sympy.symbols('z')\n",
      "   poly = sum([ sympy.binomial(k,h) * z**h * ((1+z)*phis[h] -z)**2 for h in range(k+1)]) - phis[0]**2 * (1+z)**(k+2)\n",
      "   polyTerms = poly.expand().collect(z,evaluate=False)\n",
      "   eqns = [ polyTerms[ki] for ki in polyTerms.keys() if (not ki==1) ]\n",
      "   solns = sympy.solve(eqns,vars,dict=True)\n",
      "   soln1 = [ si for si in solns if isGoodSoln(si)][0]\n",
      "   solnv = [ soln1[vi] for vi in vars ]\n",
      "   if k%2!=0:\n",
      "      xs = solnv + [1-solni for solni in reversed(solnv) ]\n",
      "   else:\n",
      "      xs = solnv + [sympy.Rational(1,2)] + [1-solni for solni in reversed(solnv) ]\n",
      "   return xs\n",
      "\n",
      "# only good for k>=1\n",
      "def conjectureK(k,numeric=False):\n",
      "   if k<=1:\n",
      "      return [sympy.Rational(1,4),sympy.Rational(3,4)]\n",
      "   phi = [ 0 for i in range(k+1) ]\n",
      "   phi[0] = (sympy.sqrt(k)-1)/(2*(k-1))\n",
      "   phi[1] = (sympy.sqrt((phi[0]**2+2*phi[0]/k).expand())).simplify()\n",
      "   if numeric:\n",
      "      for h in range(2):\n",
      "         phi[h] = float(phi[h])\n",
      "   for h in range(2,(k+1)):\n",
      "      phi[h] = sympy.sqrt(( (k+2)*(k+1)*(phi[0]**2)/((k+2-h)*(k+1-h)) + 2*h*phi[h-1]*(1-phi[h-1])/(k+1-h) - h*(h-1)*((phi[h-2]-1)**2)/((k+2-h)*(k+1-h)) ))\n",
      "   return phi\n",
      "\n",
      "\n",
      "\n",
      "p = sympy.symbols('p')\n",
      "for k in range(1,9):\n",
      "   print\n",
      "   print 'k',k\n",
      "   solnk = solveKz(k)\n",
      "   print 'soln       ',solnk\n",
      "   poly = sum([ p**h * (1-p)**(k-h) * sympy.binomial(k,h) * (solnk[h]-p)**2 for h in range(k+1) ]).expand()\n",
      "   print 'check poly',poly\n",
      "   conjk = conjectureK(k,numeric=True)\n",
      "   print 'conjecture:',conjk\n",
      "   print 'max difference:',max([ abs(complex(solnk[i]-conjk[i])) for i in range(len(solnk)) ])\n",
      "   print\n",
      "\n",
      "\n"
     ],
     "language": "python",
     "metadata": {},
     "outputs": [
      {
       "output_type": "stream",
       "stream": "stdout",
       "text": [
        "\n",
        "k 1\n",
        "soln        [1/4, 3/4]\n",
        "check poly 1/16\n",
        "conjecture: [1/4, 3/4]\n",
        "max difference: 0.0\n",
        "\n",
        "\n",
        "k 2\n",
        "soln       "
       ]
      },
      {
       "output_type": "stream",
       "stream": "stdout",
       "text": [
        " [-1/2 + sqrt(2)/2, 1/2, -sqrt(2)/2 + 3/2]\n",
        "check poly -sqrt(2)/2 + 3/4\n",
        "conjecture: [0.20710678118654752, 0.5, 0.792893218813452]\n",
        "max difference: 6.26858358953e-17\n",
        "\n",
        "\n",
        "k 3\n",
        "soln       "
       ]
      },
      {
       "output_type": "stream",
       "stream": "stdout",
       "text": [
        " [-1/4 + sqrt(3)/4, sqrt(3)/12 + 1/4, -sqrt(3)/12 + 3/4, -sqrt(3)/4 + 5/4]\n",
        "check poly -sqrt(3)/8 + 1/4\n",
        "conjecture:"
       ]
      },
      {
       "output_type": "stream",
       "stream": "stdout",
       "text": [
        " [0.18301270189221933, 0.39433756729740643, 0.605662432702594, 0.816987298107781]\n",
        "max difference: 2.50877105545e-17\n",
        "\n",
        "\n",
        "k 4\n",
        "soln       "
       ]
      },
      {
       "output_type": "stream",
       "stream": "stdout",
       "text": [
        " [1/6, 1/3, 1/2, 2/3, 5/6]\n",
        "check poly 1/36\n",
        "conjecture: [0.16666666666666666, 0.3333333333333333, 0.500000000000000, 0.666666666666667, 0.833333333333333]\n",
        "max difference: 1.11022302463e-16\n",
        "\n",
        "\n",
        "k 5\n",
        "soln       "
       ]
      },
      {
       "output_type": "stream",
       "stream": "stdout",
       "text": [
        " [-1/8 + sqrt(5)/8, 1/8 + 3*sqrt(5)/40, sqrt(5)/40 + 3/8, -sqrt(5)/40 + 5/8, -3*sqrt(5)/40 + 7/8, -sqrt(5)/8 + 9/8]\n",
        "check poly"
       ]
      },
      {
       "output_type": "stream",
       "stream": "stdout",
       "text": [
        " -sqrt(5)/32 + 3/32\n",
        "conjecture:"
       ]
      },
      {
       "output_type": "stream",
       "stream": "stdout",
       "text": [
        " [0.15450849718747373, 0.2927050983124842, 0.430901699437495, 0.569098300562505, 0.707294901687516, 0.845491502812527]\n",
        "max difference: 3.19486619378e-16\n",
        "\n",
        "\n",
        "k 6\n",
        "soln       "
       ]
      },
      {
       "output_type": "stream",
       "stream": "stdout",
       "text": [
        " [-1/10 + sqrt(6)/10, 1/10 + sqrt(6)/15, sqrt(6)/30 + 3/10, 1/2, -sqrt(6)/30 + 7/10, -sqrt(6)/15 + 9/10, -sqrt(6)/10 + 11/10]\n",
        "check poly"
       ]
      },
      {
       "output_type": "stream",
       "stream": "stdout",
       "text": [
        " -sqrt(6)/50 + 7/100\n",
        "conjecture:"
       ]
      },
      {
       "output_type": "stream",
       "stream": "stdout",
       "text": [
        " [0.14494897427831782, 0.2632993161855452, 0.381649658092773, 0.500000000000000, 0.618350341907227, 0.736700683814455, 0.855051025721682]\n",
        "max difference: 3.77994123684e-16\n",
        "\n",
        "\n",
        "k 7\n",
        "soln       "
       ]
      },
      {
       "output_type": "stream",
       "stream": "stdout",
       "text": [
        " [-1/12 + sqrt(7)/12, 1/12 + 5*sqrt(7)/84, sqrt(7)/28 + 1/4, sqrt(7)/84 + 5/12, -sqrt(7)/84 + 7/12, -sqrt(7)/28 + 3/4, -5*sqrt(7)/84 + 11/12, -sqrt(7)/12 + 13/12]\n",
        "check poly"
       ]
      },
      {
       "output_type": "stream",
       "stream": "stdout",
       "text": [
        " -sqrt(7)/72 + 1/18\n",
        "conjecture:"
       ]
      },
      {
       "output_type": "stream",
       "stream": "stdout",
       "text": [
        " [0.13714594258871587, 0.24081853042051135, 0.344491118252307, 0.448163706084102, 0.551836293915898, 0.655508881747693, 0.759181469579488, 0.862854057411286]\n",
        "max difference: "
       ]
      },
      {
       "output_type": "stream",
       "stream": "stdout",
       "text": [
        "1.69186951436e-15\n",
        "\n",
        "\n",
        "k 8\n",
        "soln       "
       ]
      },
      {
       "output_type": "stream",
       "stream": "stdout",
       "text": [
        " [-1/14 + sqrt(2)/7, 1/14 + 3*sqrt(2)/28, sqrt(2)/14 + 3/14, sqrt(2)/28 + 5/14, 1/2, -sqrt(2)/28 + 9/14, -sqrt(2)/14 + 11/14, -3*sqrt(2)/28 + 13/14, -sqrt(2)/7 + 15/14]\n",
        "check poly"
       ]
      },
      {
       "output_type": "stream",
       "stream": "stdout",
       "text": [
        " -sqrt(2)/49 + 9/196\n",
        "conjecture:"
       ]
      },
      {
       "output_type": "stream",
       "stream": "stdout",
       "text": [
        " [0.1306019374818707, 0.22295145311140305, 0.315300968740935, 0.407650484370468, 0.500000000000000, 0.592349515629532, 0.684699031259065, 0.777048546888597, 0.869398062518130]\n",
        "max difference: 5.41301093293e-16\n",
        "\n"
       ]
      }
     ],
     "prompt_number": 1
    }
   ],
   "metadata": {}
  }
 ]
}