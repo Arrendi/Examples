{
 "metadata": {
  "name": "",
  "signature": "sha256:70ce3870ada8549037001380ca0f77544c341859892892110cea6299c28aca71"
 },
 "nbformat": 3,
 "nbformat_minor": 0,
 "worksheets": [
  {
   "cells": [
    {
     "cell_type": "code",
     "collapsed": false,
     "input": [
      "import sympy\n",
      "import numpy\n",
      "import scipy\n",
      "import scipy.special\n",
      "import scipy.optimize\n",
      "import cvxopt\n",
      "\n",
      "\n",
      "def ncr(n, r):\n",
      "    s = scipy.special.binom(n,r)\n",
      "    return int(round(s)) # scipy special function return is not always an integer\n",
      "\n",
      "\n",
      "\n",
      "def numericSoln(si):\n",
      "    return { k:complex(si[k]).real for k in si.keys() }\n",
      "\n",
      "def isRealSoln(si):\n",
      "    return all([abs(complex(sij).imag)<1.0e-6 for sij in si.values()])\n",
      "\n",
      "def printsolnN(phis,soln):\n",
      "   ns = numericSoln(soln)\n",
      "   for phi in phis:\n",
      "      if phi in soln:\n",
      "         print '\\t',phi,'\\t',soln[phi],'\\t',ns[phi]\n",
      "\n",
      "\n",
      "\n",
      "# for k flips of unknown coin solve for minimal max variance estimate schedule\n",
      "def solveForK(k):\n",
      "   print '*******************'\n",
      "   print k\n",
      "   p = sympy.symbols('p')\n",
      "   phis = [ sympy.symbols(str('phi_'+str(h) + '_' + str(k))) for h in range(k+1) ]\n",
      "   poly = sum([ p**h * (1-p)**(k-h) * ncr(k,h) * (phis[h]-p)**2 for h in range(k+1) ])\n",
      "   # print poly\n",
      "   # powers of p\n",
      "   polyTerms = sympy.collect(sympy.expand(poly),p,evaluate=False)\n",
      "   eqns = [ polyTerms[p**(pow+1)] for pow in range(len(polyTerms)-1) ]\n",
      "   #print eqns\n",
      "   soln1 = sympy.solve(eqns)\n",
      "   #print soln1\n",
      "   numSoln = [ numericSoln(si) for si in soln1 ]\n",
      "   viol = [ max([ abs(sympy.expand(eij.subs(si))) for eij in eqns ]) for si in numSoln ]\n",
      "   isReal = [ isRealSoln(si) for si in soln1 ]\n",
      "   costs = { i:abs(sympy.expand(poly.subs(numSoln[i]).subs({p:0}))) for i in range(len(numSoln)) if isReal[i] and viol[i]<1.0e-8 }\n",
      "   #print costs\n",
      "   minCost = min(costs.values())\n",
      "   index = [ i for i in costs.keys() if costs[i] <= minCost ][0]\n",
      "   soln = soln1[index]\n",
      "   printsolnN(phis,soln)\n",
      "   print 'loss',abs(complex(sympy.expand(poly.subs(soln).subs({p:0}))))\n",
      "   # check if gradient is p-free (or even zero) at our fixed point\n",
      "   for phi in phis:\n",
      "        print 'd',phi,sympy.expand(sympy.diff(poly,p).subs(soln))\n",
      "   print '*******************'\n",
      "   ns = numericSoln(soln)\n",
      "   return [ ns[phi] for phi in phis ]\n",
      "\n",
      "# solve numerically using Newton's zero finding method\n",
      "def solveForKN(k):\n",
      "   p = sympy.symbols('p')\n",
      "   phis = [ sympy.symbols(str('phi_'+str(h) + '_' + str(k))) for h in range(k+1) ]\n",
      "   poly = sum([ p**h * (1-p)**(k-h) * ncr(k,h) * (phis[h]-p)**2 for h in range(k+1) ])\n",
      "   # print poly\n",
      "   # powers of p\n",
      "   polyTerms = sympy.collect(sympy.expand(poly),p,evaluate=False)\n",
      "   eqns = [ polyTerms[p**(pow+1)] for pow in range(len(polyTerms)-1) ]\n",
      "   jacobian = [ [ sympy.diff(eqi,phij) for phij in phis ] for eqi in eqns ]\n",
      "   nSoln = { phis[i]:((i+0.5)/(k+1.0)) for i in range(len(phis)) }\n",
      "   while True:\n",
      "      checks = numpy.array([ float(sympy.expand(ei.subs(nSoln))) for ei in eqns ])\n",
      "      if max([abs(ci) for ci in checks])<1.0e-12:\n",
      "         break\n",
      "      js = numpy.matrix([ [ float(sympy.expand(jij.subs(nSoln))) for jij in ji ] for ji in jacobian ])\n",
      "      step = numpy.linalg.solve(js,checks)\n",
      "      nSoln = { phis[i]:(nSoln[phis[i]]-step[i]) for i in range(len(phis)) }\n",
      "      if max([abs(si) for si in step])<1.0e-12:\n",
      "         break\n",
      "   return [ nSoln[phi] for phi in phis ]\n",
      "\n",
      "\n",
      "# approximate l1 loss\n",
      "def l1Loss(phis):\n",
      "    nps = 10000\n",
      "    k = len(phis)-1\n",
      "    kchoose = [ float(ncr(k,h)) for h in range(k+1) ]\n",
      "    pseq = [ pi/float(nps) for pi in range(nps+1) ]\n",
      "    def f(p):\n",
      "        if p<0 or p>1:\n",
      "            return float('inf')\n",
      "        return -sum([ p**h * (1.0-p)**(k-h) * kchoose[h] * abs(phis[h]-p) for h in range(k+1) ])\n",
      "    reg = max([ -f(p) for p in pseq ])\n",
      "    return reg\n",
      "\n",
      "# Pick set of estimates (indexed by evidence) minimizing worse L1 loss expected for any p\n",
      "# k: number of flips\n",
      "# p: array of probabilities to check against\n",
      "def solveL1Problem(k,p):\n",
      "   nphis = k+1\n",
      "   nps = len(p)\n",
      "   # solve a x <= b \n",
      "   # varibles: \n",
      "   #  phi (indices: 0 ... nphis-1)\n",
      "   #  u (indices: nphis ... (1+nps)*nphis-1) \n",
      "   #   u(i,j) = var((i+1)*nphis+j) = abs(phi(j)-p(i)) i=0...nps-1, j=0...nphis-1\n",
      "   #  s (index: (1+nps)*nphis )\n",
      "   # eqns: \n",
      "   #  u(i,j) >= phi(j) - p(i)\n",
      "   #  u(i,j) >= -(phi(j) - p(i))\n",
      "   #  s >= sum_{j=0}^{k} (k choose j) p(i)^j (1-p(i))^{k-j} u(i,j)\n",
      "   nvars = (1+nps)*nphis+1\n",
      "   sindex = (1+nps)*nphis\n",
      "   a = []\n",
      "   b = []\n",
      "   c = numpy.zeros(nvars)\n",
      "   c[sindex] = 1.0\n",
      "   for i in range(nps):\n",
      "      arow = numpy.zeros(nvars)\n",
      "      brow = 0.0\n",
      "      # TODO: put poly coefs in terms of u's here\n",
      "      arow[sindex] = -1.0\n",
      "      for j in range(nphis):\n",
      "         uindex = (i+1)*nphis+j\n",
      "         arow[uindex] = ncr(k,j) * p[i]**j * (1-p[i])**(k-j)\n",
      "      a.append(arow)\n",
      "      b.append(brow)\n",
      "      for j in range(nphis):\n",
      "         uindex = (i+1)*nphis+j\n",
      "         phiindex = j\n",
      "         # u(i,j) >= phi(j) - p(i) : phi(j) - u(i,j) <= p(i)\n",
      "         arow = numpy.zeros(nvars)\n",
      "         arow[phiindex] = 1.0\n",
      "         arow[uindex] = -1.0 \n",
      "         brow = p[i]\n",
      "         a.append(arow)\n",
      "         b.append(brow)\n",
      "         # u(i,j) >= -(phi(j) - p(i)) : -phi(j) - u(i,j) <= -p(i)\n",
      "         arow = numpy.zeros(nvars)\n",
      "         arow[phiindex] = -1.0\n",
      "         arow[uindex] = -1.0 \n",
      "         brow = -p[i]\n",
      "         a.append(arow)\n",
      "         b.append(brow)\n",
      "   cmat = cvxopt.matrix(c)\n",
      "   gmat = cvxopt.matrix(numpy.matrix(a))\n",
      "   hmat = cvxopt.matrix(b)\n",
      "   sol = cvxopt.solvers.lp(cmat,gmat,hmat) # solve gmax * x <= hmat minimizing cmat\n",
      "   return [ sol['x'][i] for i in range(nphis) ]"
     ],
     "language": "python",
     "metadata": {},
     "outputs": [],
     "prompt_number": 1
    },
    {
     "cell_type": "code",
     "collapsed": false,
     "input": [
      "for k in range(1,11):\n",
      "    print\n",
      "    print 'l1 solution to dice game for k-rolls:',k\n",
      "    print solveL1Problem(k,(1/6.0,2/6.0,3/6.0,4/6.0,5/6.0))\n",
      "    print"
     ],
     "language": "python",
     "metadata": {},
     "outputs": [
      {
       "output_type": "stream",
       "stream": "stdout",
       "text": [
        "\n",
        "l1 solution to dice game for k-rolls: 1\n",
        "     pcost       dcost       gap    pres   dres   k/t\n",
        " 0:  0.0000e+00 -0.0000e+00  3e+00  3e+00  4e-17  1e+00\n",
        " 1:  6.8365e-02  5.5415e-02  4e-01  4e-01  2e-16  1e-01\n",
        " 2:  1.7186e-01  1.6067e-01  1e-01  9e-02  6e-16  2e-02\n",
        " 3:  1.8929e-01  1.8708e-01  2e-02  2e-02  2e-16  4e-03\n",
        " 4:  1.9966e-01  1.9935e-01  1e-03  1e-03  8e-16  1e-04\n",
        " 5:  2.0000e-01  1.9999e-01  1e-05  1e-05  3e-16  1e-06\n",
        " 6:  2.0000e-01  2.0000e-01  1e-07  1e-07  3e-16  1e-08\n",
        " 7:  2.0000e-01  2.0000e-01  1e-09  1e-09  2e-16  1e-10\n",
        "Optimal solution found.\n",
        "[0.30000000025554363, 0.6999999997444563]\n",
        "\n",
        "\n",
        "l1 solution to dice game for k-rolls: 2\n",
        "     pcost       dcost       gap    pres   dres   k/t\n",
        " 0:  0.0000e+00  3.4694e-18  3e+00  3e+00  6e-17  1e+00\n",
        " 1:  6.5039e-02  4.6507e-02  3e-01  3e-01  7e-17  1e-01\n",
        " 2:  1.4330e-01  1.3491e-01  8e-02  7e-02  6e-16  2e-02\n",
        " 3:  1.5546e-01  1.5396e-01  1e-02  1e-02  3e-16  2e-03\n",
        " 4:  1.6152e-01  1.6147e-01  3e-04  3e-04  5e-16  4e-05\n",
        " 5:  1.6162e-01  1.6161e-01  3e-06  3e-06  8e-16  4e-07\n",
        " 6:  1.6162e-01  1.6162e-01  3e-08  3e-08  3e-16  4e-09\n",
        "Optimal solution found.\n",
        "[0.24242424302874568, 0.5000000000000001, 0.7575757569712543]\n",
        "\n",
        "\n",
        "l1 solution to dice game for k-rolls: 3\n",
        "     pcost       dcost       gap    pres   dres   k/t\n",
        " 0:  0.0000e+00 -0.0000e+00  3e+00  3e+00  2e-16  1e+00\n",
        " 1:  6.2325e-02  3.9812e-02  3e-01  3e-01  2e-16  1e-01\n",
        " 2:  1.3201e-01  1.2463e-01  5e-02  4e-02  4e-16  1e-02\n",
        " 3:  1.4100e-01  1.3969e-01  9e-03  7e-03  2e-16  1e-03\n",
        " 4:  1.4247e-01  1.4244e-01  2e-04  2e-04  1e-16  4e-05\n",
        " 5:  1.4250e-01  1.4250e-01  2e-06  2e-06  3e-16  4e-07\n",
        " 6:  1.4250e-01  1.4250e-01  2e-08  2e-08  2e-16  4e-09\n",
        "Optimal solution found.\n",
        "[0.2132637245687511, 0.405581333738664, 0.5944186662613359, 0.7867362754312489]\n",
        "\n",
        "\n",
        "l1 solution to dice game for k-rolls: 4\n",
        "     pcost       dcost       gap    pres   dres   k/t\n",
        " 0:  0.0000e+00 -0.0000e+00  3e+00  3e+00  2e-16  1e+00\n",
        " 1:  6.0667e-02  3.5061e-02  3e-01  3e-01  4e-16  8e-02\n",
        " 2:  1.1455e-01  1.0648e-01  6e-02  5e-02  3e-16  1e-02\n",
        " 3:  1.1779e-01  1.1671e-01  8e-03  7e-03  2e-16  2e-03\n",
        " 4:  1.1980e-01  1.1939e-01  3e-03  2e-03  2e-16  5e-04\n",
        " 5:  1.2018e-01  1.2015e-01  1e-04  1e-04  6e-16  2e-05\n",
        " 6:  1.2020e-01  1.2020e-01  1e-06  1e-06  3e-16  2e-07\n",
        " 7:  1.2020e-01  1.2020e-01  1e-08  1e-08  7e-16  2e-09\n",
        "Optimal solution found.\n",
        "[0.18090056258036633, 0.33937246942223204, 0.4999999999999999, 0.6606275305777674, 0.8190994374196335]\n",
        "\n",
        "\n",
        "l1 solution to dice game for k-rolls: 5\n",
        "     pcost       dcost       gap    pres   dres   k/t\n",
        " 0:  0.0000e+00 -0.0000e+00  3e+00  3e+00  5e-17  1e+00\n",
        " 1:  5.9402e-02  3.1387e-02  3e-01  2e-01  4e-17  7e-02\n",
        " 2:  1.1087e-01  1.0344e-01  5e-02  4e-02  2e-16  9e-03\n",
        " 3:  1.1615e-01  1.1552e-01  4e-03  3e-03  5e-16  7e-04\n",
        " 4:  1.1723e-01  1.1721e-01  1e-04  1e-04  2e-16  2e-05\n",
        " 5:  1.1726e-01  1.1726e-01  1e-06  1e-06  3e-16  2e-07\n",
        " 6:  1.1726e-01  1.1726e-01  1e-08  1e-08  5e-16  2e-09\n",
        "Optimal solution found.\n",
        "[0.1666666679120836, 0.3136382568747281, 0.4388931407533864, 0.5611068592466137, 0.6863617431252721, 0.8333333320879167]\n",
        "\n",
        "\n",
        "l1 solution to dice game for k-rolls: 6\n",
        "     pcost       dcost       gap    pres   dres   k/t\n",
        " 0:  0.0000e+00 -0.0000e+00  3e+00  2e+00  6e-17  1e+00\n",
        " 1:  5.7623e-02  2.8077e-02  3e-01  2e-01  3e-16  6e-02\n",
        " 2:  1.0540e-01  9.8070e-02  4e-02  3e-02  2e-16  6e-03\n",
        " 3:  1.0957e-01  1.0823e-01  7e-03  5e-03  6e-16  8e-04\n",
        " 4:  1.0981e-01  1.0974e-01  3e-04  3e-04  5e-16  4e-05\n",
        " 5:  1.0984e-01  1.0984e-01  2e-05  1e-05  6e-16  2e-06\n",
        " 6:  1.0984e-01  1.0984e-01  2e-07  1e-07  5e-16  2e-08\n",
        " 7:  1.0984e-01  1.0984e-01  2e-09  1e-09  5e-16  2e-10\n",
        "Optimal solution found.\n",
        "[0.16666666730865293, 0.2810765242229833, 0.3754580498073886, 0.5, 0.6245419501926115, 0.7189234757770168, 0.8333333326913472]\n",
        "\n",
        "\n",
        "l1 solution to dice game for k-rolls: 7\n",
        "     pcost       dcost       gap    pres   dres   k/t\n",
        " 0:  0.0000e+00 -3.4694e-18  3e+00  2e+00  2e-16  1e+00\n",
        " 1:  5.6143e-02  2.5408e-02  3e-01  2e-01  2e-16  6e-02\n",
        " 2:  9.7364e-02  8.8361e-02  6e-02  4e-02  3e-16  9e-03\n",
        " 3:  1.0179e-01  1.0027e-01  9e-03  7e-03  7e-16  1e-03\n",
        " 4:  1.0258e-01  1.0246e-01  7e-04  5e-04  5e-16  9e-05\n",
        " 5:  1.0263e-01  1.0262e-01  2e-05  2e-05  4e-16  3e-06\n",
        " 6:  1.0263e-01  1.0263e-01  9e-07  7e-07  4e-16  1e-07\n",
        " 7:  1.0263e-01  1.0263e-01  9e-09  7e-09  5e-16  1e-09\n",
        "Optimal solution found.\n",
        "[0.16666667287996165, 0.25129079795016174, 0.3333333333253158, 0.4715996013407067, 0.5284003986592934, 0.6666666666746842, 0.7487092020498384, 0.8333333271200385]\n",
        "\n",
        "\n",
        "l1 solution to dice game for k-rolls: 8\n",
        "     pcost       dcost       gap    pres   dres   k/t"
       ]
      },
      {
       "output_type": "stream",
       "stream": "stdout",
       "text": [
        "\n",
        " 0:  0.0000e+00 -0.0000e+00  3e+00  2e+00  5e-17  1e+00\n",
        " 1:  5.5087e-02  2.3295e-02  3e-01  2e-01  2e-16  5e-02\n",
        " 2:  9.1334e-02  8.1445e-02  6e-02  5e-02  1e-16  1e-02\n",
        " 3:  9.5502e-02  9.3153e-02  1e-02  1e-02  2e-16  2e-03\n",
        " 4:  9.7543e-02  9.7053e-02  3e-03  2e-03  3e-16  4e-04\n",
        " 5:  9.7710e-02  9.7684e-02  1e-04  1e-04  2e-16  2e-05\n",
        " 6:  9.7726e-02  9.7725e-02  6e-06  5e-06  5e-16  8e-07\n",
        " 7:  9.7727e-02  9.7727e-02  3e-07  2e-07  3e-16  4e-08\n",
        " 8:  9.7727e-02  9.7727e-02  3e-09  2e-09  5e-16  4e-10\n",
        "Optimal solution found.\n",
        "[0.16666666883414585, 0.2167982497001821, 0.33333333372249996, 0.4063670201486247, 0.4999999999999999, 0.5936329798513751, 0.6666666662774997, 0.7832017502998178, 0.833333331165854]\n",
        "\n",
        "\n",
        "l1 solution to dice game for k-rolls: 9\n",
        "     pcost       dcost       gap    pres   dres   k/t\n",
        " 0:  0.0000e+00  5.5511e-16  1e+02  2e+00  1e+01  1e+00\n",
        " 1:  9.7659e-01  8.9137e-01  8e+00  2e-01  1e+00  6e-03\n",
        " 2:  2.6575e-01  2.5759e-01  5e-01  3e-02  2e-01  4e-03\n",
        " 3:  1.1844e-01  1.1687e-01  1e-01  6e-03  3e-02  8e-04\n",
        " 4:  9.2710e-02  9.2481e-02  1e-02  8e-04  5e-03  1e-04\n",
        " 5:  9.0232e-02  9.0176e-02  3e-03  2e-04  1e-03  2e-05\n",
        " 6:  8.9177e-02  8.9175e-02  9e-05  7e-06  4e-05  6e-07\n",
        " 7:  8.9138e-02  8.9138e-02  2e-06  1e-07  7e-07  6e-09\n",
        " 8:  8.9137e-02  8.9137e-02  2e-08  2e-09  1e-08  7e-11\n",
        "Optimal solution found.\n",
        "[0.16666666901939065, 0.17839485069204533, 0.3333333327163272, 0.3381984815899826, 0.4999999992904852, 0.500000000709515, 0.6618015184100173, 0.6666666672836729, 0.821605149307955, 0.8333333309806096]\n",
        "\n",
        "\n",
        "l1 solution to dice game for k-rolls: 10\n",
        "     pcost       dcost       gap    pres   dres   k/t\n",
        " 0:  0.0000e+00  2.2204e-16  2e+02  2e+00  2e+01  1e+00\n",
        " 1:  1.0170e+00  9.2831e-01  9e+00  2e-01  1e+00  6e-03\n",
        " 2:  2.8916e-01  2.7987e-01  7e-01  3e-02  2e-01  4e-03\n",
        " 3:  1.2382e-01  1.2178e-01  1e-01  8e-03  5e-02  1e-03\n",
        " 4:  9.4357e-02  9.3999e-02  2e-02  1e-03  8e-03  1e-04\n",
        " 5:  8.8715e-02  8.8680e-02  2e-03  1e-04  7e-04  1e-05\n",
        " 6:  8.8019e-02  8.8018e-02  4e-05  3e-06  2e-05  1e-07\n",
        " 7:  8.7998e-02  8.7998e-02  7e-07  5e-08  3e-07  1e-09\n",
        " 8:  8.7998e-02  8.7998e-02  9e-09  7e-10  4e-09  1e-11\n",
        "Optimal solution found.\n",
        "[0.16666666652773787, 0.1666666670780608, 0.3113782073030003, 0.3333333332017673, 0.43857086996118466, 0.4999999999999999, 0.561429130038815, 0.6666666667982325, 0.6886217926969996, 0.833333332921939, 0.833333333472262]\n",
        "\n"
       ]
      }
     ],
     "prompt_number": 2
    },
    {
     "cell_type": "code",
     "collapsed": false,
     "input": [
      "k=2\n",
      "print 'analytic l2 solution for k=',k\n",
      "nSoln = solveForK(k)\n",
      "print nSoln\n",
      "print 'approximate numeric l1 solution for k=',k\n",
      "initialLoss = l1Loss(nSoln)\n",
      "print 'initial l1 loss',initialLoss\n",
      "nSoln[1] = 0.55\n",
      "print nSoln\n",
      "adjLoss = l1Loss(nSoln)\n",
      "print 'adjusted l1 loss',adjLoss\n",
      "print 'difference',initialLoss-adjLoss\n"
     ],
     "language": "python",
     "metadata": {},
     "outputs": [
      {
       "output_type": "stream",
       "stream": "stdout",
       "text": [
        "analytic l2 solution for k= 2\n",
        "*******************\n",
        "2\n",
        "\t"
       ]
      },
      {
       "output_type": "stream",
       "stream": "stdout",
       "text": [
        "phi_0_2 \t-1/2 + sqrt(2)/2 \t0.207106781187\n",
        "\tphi_1_2 \t1/2 \t0.5\n",
        "\tphi_2_2 \t-sqrt(2)/2 + 3/2 \t0.792893218813\n",
        "loss 0.0428932188135\n",
        "d phi_0_2 "
       ]
      },
      {
       "output_type": "stream",
       "stream": "stdout",
       "text": [
        "0\n",
        "d phi_1_2 0\n",
        "d phi_2_2 0\n",
        "*******************\n",
        "[0.20710678118654752, 0.5, 0.7928932188134524]\n",
        "approximate numeric l1 solution for k= 2\n",
        "initial l1 loss"
       ]
      },
      {
       "output_type": "stream",
       "stream": "stdout",
       "text": [
        " 0.207106781187\n",
        "[0.20710678118654752, 0.55, 0.7928932188134524]\n",
        "adjusted l1 loss"
       ]
      },
      {
       "output_type": "stream",
       "stream": "stdout",
       "text": [
        " 0.207106781187\n",
        "difference 0.0\n"
       ]
      }
     ],
     "prompt_number": 3
    },
    {
     "cell_type": "code",
     "collapsed": true,
     "input": [
      "for k in range(1,5):\n",
      "    print\n",
      "    print 'analytic l2 solution for k=',k\n",
      "    solveForK(k)\n",
      "    print 'numeric l2 solution for k=',k\n",
      "    nSoln = solveForKN(k)\n",
      "    print nSoln\n",
      "    print"
     ],
     "language": "python",
     "metadata": {},
     "outputs": [
      {
       "output_type": "stream",
       "stream": "stdout",
       "text": [
        "\n",
        "analytic l2 solution for k= 1\n",
        "*******************\n",
        "1\n",
        "\t"
       ]
      },
      {
       "output_type": "stream",
       "stream": "stdout",
       "text": [
        "phi_0_1 \t1/4 \t0.25\n",
        "\tphi_1_1 \t3/4 \t0.75\n",
        "loss 0.0625\n",
        "d phi_0_1 0\n",
        "d phi_1_1 0\n",
        "*******************\n",
        "numeric l2 solution for k= 1\n",
        "[0.25, 0.75]\n",
        "\n",
        "\n",
        "analytic l2 solution for k= 2\n",
        "*******************\n",
        "2\n",
        "\t"
       ]
      },
      {
       "output_type": "stream",
       "stream": "stdout",
       "text": [
        "phi_0_2 \t-1/2 + sqrt(2)/2 \t0.207106781187\n",
        "\tphi_1_2 \t1/2 \t0.5\n",
        "\tphi_2_2 \t-sqrt(2)/2 + 3/2 \t0.792893218813\n",
        "loss 0.0428932188135\n",
        "d phi_0_2 0\n",
        "d phi_1_2 0\n",
        "d phi_2_2 0\n",
        "*******************\n",
        "numeric l2 solution for k= 2\n",
        "[0.20710678118654738, 0.49999999999999983, 0.79289321881345221]"
       ]
      },
      {
       "output_type": "stream",
       "stream": "stdout",
       "text": [
        "\n",
        "\n",
        "\n",
        "analytic l2 solution for k= 3\n",
        "*******************\n",
        "3\n",
        "\t"
       ]
      },
      {
       "output_type": "stream",
       "stream": "stdout",
       "text": [
        "phi_0_3 \t-1/4 + sqrt(3)/4 \t0.183012701892\n",
        "\tphi_1_3 \tsqrt(3)/12 + 1/4 \t0.394337567297\n",
        "\tphi_2_3 \t-sqrt(3)/12 + 3/4 \t0.605662432703\n",
        "\tphi_3_3 \t-sqrt(3)/4 + 5/4 \t0.816987298108\n",
        "loss 0.0334936490539\n",
        "d phi_0_3 "
       ]
      },
      {
       "output_type": "stream",
       "stream": "stdout",
       "text": [
        "0\n",
        "d phi_1_3 0\n",
        "d phi_2_3 0\n",
        "d phi_3_3 0\n",
        "*******************\n",
        "numeric l2 solution for k= 3\n",
        "[0.18301270189221974, 0.39433756729740699, 0.60566243270259423, 0.8169872981077817]"
       ]
      },
      {
       "output_type": "stream",
       "stream": "stdout",
       "text": [
        "\n",
        "\n",
        "\n",
        "analytic l2 solution for k= 4\n",
        "*******************\n",
        "4\n",
        "\t"
       ]
      },
      {
       "output_type": "stream",
       "stream": "stdout",
       "text": [
        "phi_0_4 \t1/6 \t0.166666666667\n",
        "\tphi_1_4 \t1/3 \t0.333333333333\n",
        "\tphi_2_4 \t1/2 \t0.5\n",
        "\tphi_3_4 \t2/3 \t0.666666666667\n",
        "\tphi_4_4 \t5/6 \t0.833333333333\n",
        "loss 0.0277777777778\n",
        "d phi_0_4 "
       ]
      },
      {
       "output_type": "stream",
       "stream": "stdout",
       "text": [
        "0\n",
        "d phi_1_4 0\n",
        "d phi_2_4 0\n",
        "d phi_3_4 0\n",
        "d phi_4_4 0\n",
        "*******************\n",
        "numeric l2 solution for k= 4\n",
        "[0.16666666666666657, 0.33333333333333298, 0.49999999999999928, 0.66666666666666574, 0.83333333333333226]"
       ]
      },
      {
       "output_type": "stream",
       "stream": "stdout",
       "text": [
        "\n",
        "\n"
       ]
      }
     ],
     "prompt_number": 4
    },
    {
     "cell_type": "code",
     "collapsed": false,
     "input": [
      "for k in range(5,11):\n",
      "    print 'numeric l2 solution for k=',k\n",
      "    print solveForKN(k)"
     ],
     "language": "python",
     "metadata": {},
     "outputs": [
      {
       "output_type": "stream",
       "stream": "stdout",
       "text": [
        "numeric l2 solution for k= 5\n",
        "[0.15450849718749732, 0.29270509831249841, 0.43090169943749956, 0.56909830056250077, 0.70729490168750231, 0.84549150281250485]"
       ]
      },
      {
       "output_type": "stream",
       "stream": "stdout",
       "text": [
        "\n",
        "numeric l2 solution for k= 6\n",
        "[0.14494897427875081, 0.26329931618583163, 0.38164965809291207, 0.49999999999999173, 0.61835034190706983, 0.736700683814145, 0.85505102572121505]"
       ]
      },
      {
       "output_type": "stream",
       "stream": "stdout",
       "text": [
        "\n",
        "numeric l2 solution for k= 7\n",
        "[0.13714594258870808, 0.24081853042050227, 0.344491118252296, 0.44816370608408912, 0.55183629391588152, 0.65550888174767297, 0.75918146957946298, 0.86285405741124843]"
       ]
      },
      {
       "output_type": "stream",
       "stream": "stdout",
       "text": [
        "\n",
        "numeric l2 solution for k= 8\n",
        "[0.13060193748186366, 0.22295145311139491, 0.31530096874092589, 0.40765048437045631, 0.49999999999998584, 0.59234951562951332, 0.68469903125903675, 0.77704854688855263, 0.8693980625180614]"
       ]
      },
      {
       "output_type": "stream",
       "stream": "stdout",
       "text": [
        "\n",
        "numeric l2 solution for k= 9\n",
        "[0.12499999999993124, 0.20833333333325538, 0.29166666666657692, 0.37499999999989464, 0.45833333333320636, 0.54166666666650842, 0.62499999999979383, 0.70833333333304671, 0.79166666666622476, 0.87499999999922329]"
       ]
      },
      {
       "output_type": "stream",
       "stream": "stdout",
       "text": [
        "\n",
        "numeric l2 solution for k= 10\n",
        "[0.12012653667611538, 0.19610122934092272, 0.27207592200573305, 0.3480506146705476, 0.42402530733536842, 0.50000000000019862, 0.5759746926650432, 0.65194938532990943, 0.72792407799480374, 0.80389877065973081, 0.87987346332470762]"
       ]
      },
      {
       "output_type": "stream",
       "stream": "stdout",
       "text": [
        "\n"
       ]
      }
     ],
     "prompt_number": 5
    }
   ],
   "metadata": {}
  }
 ]
}