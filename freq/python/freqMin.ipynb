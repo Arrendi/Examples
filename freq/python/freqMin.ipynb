{
 "metadata": {
  "name": "",
  "signature": "sha256:9c067e350a3857d8e4eef91576cd10c6b6c39b0d7a1d4b90b2fc3f32ea297329"
 },
 "nbformat": 3,
 "nbformat_minor": 0,
 "worksheets": [
  {
   "cells": [
    {
     "cell_type": "code",
     "collapsed": false,
     "input": [
      "from sympy import *\n",
      "import numpy\n",
      "from fractions import Fraction\n",
      "\n",
      "# from http://stackoverflow.com/questions/4941753/is-there-a-math-ncr-function-in-python\n",
      "import operator as op\n",
      "\n",
      "def ncr(n, r):\n",
      "    r = min(r, n-r)\n",
      "    if r == 0: return 1\n",
      "    numer = reduce(op.mul, xrange(n, n-r, -1))\n",
      "    denom = reduce(op.mul, xrange(1, r+1))\n",
      "    return numer//denom\n",
      "\n",
      "def numericSoln(si):\n",
      "    return { k:complex(si[k]).real for k in si.keys() }\n",
      "\n",
      "def isRealSoln(si):\n",
      "    return all([abs(complex(sij).imag)<1.0e-5 for sij in si.values()])\n",
      "\n",
      "def printsoln(phis,soln):\n",
      "   for phi in phis:\n",
      "      print '\\t',phi,'\\t',soln[phi]\n",
      "\n",
      "p = symbols('p')\n",
      "powerTerms = False\n",
      "\n",
      "def solveForK(k):\n",
      "   print '*******************'\n",
      "   print k\n",
      "   print 'powerTerms',powerTerms\n",
      "   phis = [ symbols(str('phi_'+str(h) + '_' + str(k))) for h in range(k+1) ]\n",
      "   poly = sum([ p**h * (1-p)**(k-h) * ncr(k,h) * (phis[h]-p)**2 for h in range(k+1) ])\n",
      "   if powerTerms:\n",
      "     # powers of p\n",
      "     polyTerms = collect(expand(poly),p,evaluate=False)\n",
      "     eqns = [ polyTerms[p**(pow+1)] for pow in range(len(polyTerms)-1) ]\n",
      "   else:\n",
      "     # different evaluations\n",
      "     p0 = poly.subs({p:0})\n",
      "     eqns = [ poly.subs({p:(simplify(Fraction(i+1,k+1)))})-p0 for i in range(k+1) ]\n",
      "   print eqns\n",
      "   soln1 = solve(eqns)\n",
      "   print soln1\n",
      "   numSoln = [ numericSoln(si) for si in soln1 ]\n",
      "   isReal = [ isRealSoln(si) for si in soln1 ]\n",
      "   print isReal\n",
      "   costs = { i:abs(expand(poly.subs(numSoln[i]).subs({p:0}))) for i in range(len(numSoln)) if isReal[i] }\n",
      "   print costs\n",
      "   minCost = min(costs.values())\n",
      "   index = [ i for i in costs.keys() if costs[i] <= minCost ][0]\n",
      "   soln = soln1[index]\n",
      "   printsoln(phis,soln)\n",
      "   print abs(complex(expand(poly.subs(soln))))\n",
      "   printsoln(phis,numericSoln(soln))\n",
      "   print '*******************'\n",
      "   return soln"
     ],
     "language": "python",
     "metadata": {},
     "outputs": [],
     "prompt_number": 117
    },
    {
     "cell_type": "code",
     "collapsed": true,
     "input": [
      "solveForK(1)"
     ],
     "language": "python",
     "metadata": {},
     "outputs": [
      {
       "output_type": "stream",
       "stream": "stdout",
       "text": [
        "*******************\n",
        "1\n",
        "powerTerms False\n",
        "[-phi_0_1**2 + (phi_0_1 - 1/2)**2/2 + (phi_1_1 - 1/2)**2/2, -phi_0_1**2 + (phi_1_1 - 1)**2]\n",
        "[{phi_0_1: 1/4, phi_1_1: 3/4}]\n",
        "[True]\n",
        "{0: 0.0625000000000000}\n",
        "\tphi_0_1 \t1/4\n",
        "\tphi_1_1 \t3/4\n",
        "0.0625\n",
        "\tphi_0_1 \t0.25\n",
        "\tphi_1_1 \t0.75\n",
        "*******************\n"
       ]
      },
      {
       "metadata": {},
       "output_type": "pyout",
       "prompt_number": 118,
       "text": [
        "{phi_0_1: 1/4, phi_1_1: 3/4}"
       ]
      }
     ],
     "prompt_number": 118
    },
    {
     "cell_type": "code",
     "collapsed": false,
     "input": [
      "solveForK(2)"
     ],
     "language": "python",
     "metadata": {},
     "outputs": [
      {
       "output_type": "stream",
       "stream": "stdout",
       "text": [
        "*******************\n",
        "2\n",
        "powerTerms False\n",
        "[-phi_0_2**2 + 4*(phi_0_2 - 1/3)**2/9 + 4*(phi_1_2 - 1/3)**2/9 + (phi_2_2 - 1/3)**2/9, -phi_0_2**2 + (phi_0_2 - 2/3)**2/9 + 4*(phi_1_2 - 2/3)**2/9 + 4*(phi_2_2 - 2/3)**2/9, -phi_0_2**2 + (phi_2_2 - 1)**2]\n",
        "[{phi_2_2: -sqrt(2)/2 + 3/2, phi_0_2: -1/2 + sqrt(2)/2, phi_1_2: 1/2}, {phi_2_2: sqrt(2)/2 + 3/2, phi_0_2: -sqrt(2)/2 - 1/2, phi_1_2: 1/2}]"
       ]
      },
      {
       "output_type": "stream",
       "stream": "stdout",
       "text": [
        "\n",
        "[True, True]\n",
        "{0: 0.0428932188134525, 1: 1.45710678118655}\n",
        "\tphi_0_2 \t-1/2 + sqrt(2)/2\n",
        "\tphi_1_2 \t1/2\n",
        "\tphi_2_2 \t-sqrt(2)/2 + 3/2\n",
        "0.0428932188135\n",
        "\tphi_0_2 \t0.207106781187\n",
        "\tphi_1_2 \t0.5\n",
        "\tphi_2_2 \t0.792893218813\n",
        "*******************\n"
       ]
      },
      {
       "metadata": {},
       "output_type": "pyout",
       "prompt_number": 119,
       "text": [
        "{phi_2_2: -sqrt(2)/2 + 3/2, phi_0_2: -1/2 + sqrt(2)/2, phi_1_2: 1/2}"
       ]
      }
     ],
     "prompt_number": 119
    },
    {
     "cell_type": "code",
     "collapsed": false,
     "input": [
      "solveForK(3)"
     ],
     "language": "python",
     "metadata": {},
     "outputs": [
      {
       "output_type": "stream",
       "stream": "stdout",
       "text": [
        "*******************\n",
        "3\n",
        "powerTerms False\n",
        "[-phi_0_3**2 + 27*(phi_0_3 - 1/4)**2/64 + 27*(phi_1_3 - 1/4)**2/64 + 9*(phi_2_3 - 1/4)**2/64 + (phi_3_3 - 1/4)**2/64, -phi_0_3**2 + (phi_0_3 - 1/2)**2/8 + 3*(phi_1_3 - 1/2)**2/8 + 3*(phi_2_3 - 1/2)**2/8 + (phi_3_3 - 1/2)**2/8, -phi_0_3**2 + (phi_0_3 - 3/4)**2/64 + 9*(phi_1_3 - 3/4)**2/64 + 27*(phi_2_3 - 3/4)**2/64 + 27*(phi_3_3 - 3/4)**2/64, -phi_0_3**2 + (phi_3_3 - 1)**2]\n",
        "[{phi_3_3: 2, phi_1_3: -sqrt(3)/3, phi_2_3: -sqrt(3)/3 + 1, phi_0_3: -1}, {phi_3_3: 2, phi_1_3: sqrt(3)/3, phi_2_3: sqrt(3)/3 + 1, phi_0_3: -1}, {phi_3_3: -sqrt(3)/4 + 5/4, phi_1_3: sqrt(3)/12 + 1/4, phi_2_3: -sqrt(3)/12 + 3/4, phi_0_3: -1/4 + sqrt(3)/4}, {phi_3_3: sqrt(3)/4 + 5/4, phi_1_3: -sqrt(3)/12 + 1/4, phi_2_3: sqrt(3)/12 + 3/4, phi_0_3: -sqrt(3)/4 - 1/4}]"
       ]
      },
      {
       "output_type": "stream",
       "stream": "stdout",
       "text": [
        "\n",
        "[True, True, True, True]\n",
        "{0: 1.00000000000000, 1: 1.00000000000000, 2: 0.0334936490538903, 3: 0.466506350946110}\n",
        "\tphi_0_3 \t-1/4 + sqrt(3)/4\n",
        "\tphi_1_3 \tsqrt(3)/12 + 1/4\n",
        "\tphi_2_3 \t-sqrt(3)/12 + 3/4\n",
        "\tphi_3_3 \t-sqrt(3)/4 + 5/4\n",
        "0.0334936490539\n",
        "\tphi_0_3 \t0.183012701892\n",
        "\tphi_1_3 \t0.394337567297\n",
        "\tphi_2_3 \t0.605662432703\n",
        "\tphi_3_3 \t0.816987298108\n",
        "*******************\n"
       ]
      },
      {
       "metadata": {},
       "output_type": "pyout",
       "prompt_number": 120,
       "text": [
        "{phi_3_3: -sqrt(3)/4 + 5/4,\n",
        " phi_1_3: sqrt(3)/12 + 1/4,\n",
        " phi_2_3: -sqrt(3)/12 + 3/4,\n",
        " phi_0_3: -1/4 + sqrt(3)/4}"
       ]
      }
     ],
     "prompt_number": 120
    },
    {
     "cell_type": "code",
     "collapsed": false,
     "input": [
      "solveForK(4)"
     ],
     "language": "python",
     "metadata": {},
     "outputs": [
      {
       "output_type": "stream",
       "stream": "stdout",
       "text": [
        "*******************\n",
        "4\n",
        "powerTerms False\n",
        "[-phi_0_4**2 + 256*(phi_0_4 - 1/5)**2/625 + 256*(phi_1_4 - 1/5)**2/625 + 96*(phi_2_4 - 1/5)**2/625 + 16*(phi_3_4 - 1/5)**2/625 + (phi_4_4 - 1/5)**2/625, -phi_0_4**2 + 81*(phi_0_4 - 2/5)**2/625 + 216*(phi_1_4 - 2/5)**2/625 + 216*(phi_2_4 - 2/5)**2/625 + 96*(phi_3_4 - 2/5)**2/625 + 16*(phi_4_4 - 2/5)**2/625, -phi_0_4**2 + 16*(phi_0_4 - 3/5)**2/625 + 96*(phi_1_4 - 3/5)**2/625 + 216*(phi_2_4 - 3/5)**2/625 + 216*(phi_3_4 - 3/5)**2/625 + 81*(phi_4_4 - 3/5)**2/625, -phi_0_4**2 + (phi_0_4 - 4/5)**2/625 + 16*(phi_1_4 - 4/5)**2/625 + 96*(phi_2_4 - 4/5)**2/625 + 256*(phi_3_4 - 4/5)**2/625 + 256*(phi_4_4 - 4/5)**2/625, -phi_0_4**2 + (phi_4_4 - 1)**2]\n",
        "[{phi_0_4: -15/14, phi_2_4: -4*sqrt(30)/21 + 1/2, phi_4_4: 29/14, phi_1_4: -sqrt(30)/7, phi_3_4: -sqrt(30)/7 + 1}, {phi_0_4: -15/14, phi_2_4: 1/2 + 4*sqrt(30)/21, phi_4_4: 29/14, phi_1_4: sqrt(30)/7, phi_3_4: sqrt(30)/7 + 1}, {phi_0_4: -1/2, phi_2_4: 1/2, phi_4_4: 3/2, phi_1_4: 0, phi_3_4: 1}, {phi_0_4: 1/6, phi_2_4: 1/2, phi_4_4: 5/6, phi_1_4: 1/3, phi_3_4: 2/3}, {phi_0_4: 1/2 + sqrt(21)/3, phi_2_4: 1/2, phi_4_4: -sqrt(21)/3 + 1/2, phi_1_4: -3/2 - sqrt(21)/6, phi_3_4: sqrt(21)/6 + 5/2}, {phi_0_4: -3*sqrt(16520 + 2730*sqrt(51))/280, phi_2_4: (467*sqrt(842520 + 139230*sqrt(51))/120 + 6170 + 7055*sqrt(51)/6 + 297*sqrt(16520 + 2730*sqrt(51))/5)/(819*sqrt(51) + 6356 + 44*sqrt(70)*sqrt(236 + 39*sqrt(51))), phi_4_4: -sqrt(531/280 + 351*sqrt(51)/1120) + 1, phi_1_4: -(191*sqrt(842520 + 139230*sqrt(51))/40 + 1539*sqrt(16520 + 2730*sqrt(51))/40 + 11703*sqrt(51)/8 + 96597/8)/(819*sqrt(51) + 6356 + 44*sqrt(70)*sqrt(236 + 39*sqrt(51))), phi_3_4: (249*sqrt(842520 + 139230*sqrt(51))/40 + 152197/8 + 4181*sqrt(16520 + 2730*sqrt(51))/40 + 22303*sqrt(51)/8)/(819*sqrt(51) + 6356 + 44*sqrt(70)*sqrt(236 + 39*sqrt(51)))}, {phi_0_4: 3*sqrt(16520 + 2730*sqrt(51))/280, phi_2_4: (-297*sqrt(16520 + 2730*sqrt(51))/5 - 467*sqrt(842520 + 139230*sqrt(51))/120 + 6170 + 7055*sqrt(51)/6)/(-44*sqrt(70)*sqrt(236 + 39*sqrt(51)) + 819*sqrt(51) + 6356), phi_4_4: 1 + sqrt(531/280 + 351*sqrt(51)/1120), phi_1_4: (-96597/8 - 11703*sqrt(51)/8 + 191*sqrt(842520 + 139230*sqrt(51))/40 + 1539*sqrt(16520 + 2730*sqrt(51))/40)/(-44*sqrt(70)*sqrt(236 + 39*sqrt(51)) + 819*sqrt(51) + 6356), phi_3_4: (-4181*sqrt(16520 + 2730*sqrt(51))/40 - 249*sqrt(842520 + 139230*sqrt(51))/40 + 152197/8 + 22303*sqrt(51)/8)/(-44*sqrt(70)*sqrt(236 + 39*sqrt(51)) + 819*sqrt(51) + 6356)}, {phi_0_4: -sqrt(21)/3 + 1/2, phi_2_4: 1/2, phi_4_4: 1/2 + sqrt(21)/3, phi_1_4: -3/2 + sqrt(21)/6, phi_3_4: -sqrt(21)/6 + 5/2}, {phi_0_4: -3*sqrt(-2730*sqrt(51) + 16520)/280, phi_2_4: (-7055*sqrt(51)/6 + 6170 - 467*sqrt(-139230*sqrt(51) + 842520)/120 + 297*sqrt(-2730*sqrt(51) + 16520)/5)/(-819*sqrt(51) + 6356 + 44*sqrt(70)*sqrt(-39*sqrt(51) + 236)), phi_4_4: 1 - sqrt(-351*sqrt(51)/1120 + 531/280), phi_1_4: (-96597/8 + 11703*sqrt(51)/8 - 1539*sqrt(-2730*sqrt(51) + 16520)/40 + 191*sqrt(-139230*sqrt(51) + 842520)/40)/(-819*sqrt(51) + 6356 + 44*sqrt(70)*sqrt(-39*sqrt(51) + 236)), phi_3_4: (-22303*sqrt(51)/8 + 152197/8 - 249*sqrt(-139230*sqrt(51) + 842520)/40 + 4181*sqrt(-2730*sqrt(51) + 16520)/40)/(-819*sqrt(51) + 6356 + 44*sqrt(70)*sqrt(-39*sqrt(51) + 236))}, {phi_0_4: 3*sqrt(-2730*sqrt(51) + 16520)/280, phi_2_4: (-6170 + 7055*sqrt(51)/6 - 467*sqrt(-139230*sqrt(51) + 842520)/120 + 297*sqrt(-2730*sqrt(51) + 16520)/5)/(-6356 + 819*sqrt(51) + 44*sqrt(70)*sqrt(-39*sqrt(51) + 236)), phi_4_4: 1 + sqrt(-351*sqrt(51)/1120 + 531/280), phi_1_4: (-11703*sqrt(51)/8 + 96597/8 - 1539*sqrt(-2730*sqrt(51) + 16520)/40 + 191*sqrt(-139230*sqrt(51) + 842520)/40)/(-6356 + 819*sqrt(51) + 44*sqrt(70)*sqrt(-39*sqrt(51) + 236)), phi_3_4: (-152197/8 + 22303*sqrt(51)/8 - 249*sqrt(-139230*sqrt(51) + 842520)/40 + 4181*sqrt(-2730*sqrt(51) + 16520)/40)/(-6356 + 819*sqrt(51) + 44*sqrt(70)*sqrt(-39*sqrt(51) + 236))}]"
       ]
      },
      {
       "output_type": "stream",
       "stream": "stdout",
       "text": [
        "\n",
        "[True, True, True, True, True, True, True, True, False, False]"
       ]
      },
      {
       "output_type": "stream",
       "stream": "stdout",
       "text": [
        "\n",
        "{0: 1.14795918367347, 1: 1.14795918367347, 2: 0.250000000000000, 3: 0.0277777777777778, 4: 4.11085856498528, 5: 4.13450123073084, 6: 4.13450123073084, 7: 1.05580810168139}\n",
        "\tphi_0_4 \t1/6\n",
        "\tphi_1_4 \t1/3\n",
        "\tphi_2_4 \t1/2\n",
        "\tphi_3_4 \t2/3\n",
        "\tphi_4_4 \t5/6\n",
        "0.0277777777778\n",
        "\tphi_0_4 \t0.166666666667\n",
        "\tphi_1_4 \t0.333333333333\n",
        "\tphi_2_4 \t0.5\n",
        "\tphi_3_4 \t0.666666666667\n",
        "\tphi_4_4 \t0.833333333333\n",
        "*******************\n"
       ]
      },
      {
       "metadata": {},
       "output_type": "pyout",
       "prompt_number": 121,
       "text": [
        "{phi_0_4: 1/6, phi_2_4: 1/2, phi_4_4: 5/6, phi_1_4: 1/3, phi_3_4: 2/3}"
       ]
      }
     ],
     "prompt_number": 121
    }
   ],
   "metadata": {}
  }
 ]
}