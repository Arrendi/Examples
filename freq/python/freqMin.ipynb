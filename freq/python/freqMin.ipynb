{
 "metadata": {
  "name": "",
  "signature": "sha256:586c1bc9da8e0c1ad8ce4fe9300300730c02b6836f5164e39e0a3b110a93971d"
 },
 "nbformat": 3,
 "nbformat_minor": 0,
 "worksheets": [
  {
   "cells": [
    {
     "cell_type": "code",
     "collapsed": false,
     "input": [
      "import sympy\n",
      "import numpy\n",
      "import scipy\n",
      "import scipy.special\n",
      "import scipy.optimize\n",
      "\n",
      "\n",
      "def ncr(n, r):\n",
      "    s = scipy.special.binom(n,r)\n",
      "    return int(round(s)) # scipy special function return is not always an integer\n",
      "\n",
      "\n",
      "\n",
      "def numericSoln(si):\n",
      "    return { k:complex(si[k]).real for k in si.keys() }\n",
      "\n",
      "def isRealSoln(si):\n",
      "    return all([abs(complex(sij).imag)<1.0e-6 for sij in si.values()])\n",
      "\n",
      "def printsolnN(phis,soln):\n",
      "   ns = numericSoln(soln)\n",
      "   for phi in phis:\n",
      "      if phi in soln:\n",
      "         print '\\t',phi,'\\t',soln[phi],'\\t',ns[phi]\n",
      "\n",
      "\n",
      "\n",
      "# for k flips of unknown coin solve for minimal max variance estimate schedule\n",
      "def solveForK(k):\n",
      "   print '*******************'\n",
      "   print k\n",
      "   p = sympy.symbols('p')\n",
      "   phis = [ sympy.symbols(str('phi_'+str(h) + '_' + str(k))) for h in range(k+1) ]\n",
      "   poly = sum([ p**h * (1-p)**(k-h) * ncr(k,h) * (phis[h]-p)**2 for h in range(k+1) ])\n",
      "   # print poly\n",
      "   # powers of p\n",
      "   polyTerms = sympy.collect(sympy.expand(poly),p,evaluate=False)\n",
      "   eqns = [ polyTerms[p**(pow+1)] for pow in range(len(polyTerms)-1) ]\n",
      "   #print eqns\n",
      "   soln1 = sympy.solve(eqns)\n",
      "   #print soln1\n",
      "   numSoln = [ numericSoln(si) for si in soln1 ]\n",
      "   viol = [ max([ abs(sympy.expand(eij.subs(si))) for eij in eqns ]) for si in numSoln ]\n",
      "   isReal = [ isRealSoln(si) for si in soln1 ]\n",
      "   costs = { i:abs(sympy.expand(poly.subs(numSoln[i]).subs({p:0}))) for i in range(len(numSoln)) if isReal[i] and viol[i]<1.0e-8 }\n",
      "   #print costs\n",
      "   minCost = min(costs.values())\n",
      "   index = [ i for i in costs.keys() if costs[i] <= minCost ][0]\n",
      "   soln = soln1[index]\n",
      "   printsolnN(phis,soln)\n",
      "   print abs(complex(sympy.expand(poly.subs(soln).subs({p:0}))))\n",
      "   print '*******************'\n",
      "   ns = numericSoln(soln)\n",
      "   return [ ns[phi] for phi in phis ]\n",
      "\n",
      "# solve numerically using Newton's zero finding method\n",
      "def solveForKN(k):\n",
      "   p = sympy.symbols('p')\n",
      "   phis = [ sympy.symbols(str('phi_'+str(h) + '_' + str(k))) for h in range(k+1) ]\n",
      "   poly = sum([ p**h * (1-p)**(k-h) * ncr(k,h) * (phis[h]-p)**2 for h in range(k+1) ])\n",
      "   # print poly\n",
      "   # powers of p\n",
      "   polyTerms = sympy.collect(sympy.expand(poly),p,evaluate=False)\n",
      "   eqns = [ polyTerms[p**(pow+1)] for pow in range(len(polyTerms)-1) ]\n",
      "   jacobian = [ [ sympy.diff(eqi,phij) for phij in phis ] for eqi in eqns ]\n",
      "   nSoln = { phis[i]:((i+0.5)/(k+1.0)) for i in range(len(phis)) }\n",
      "   while True:\n",
      "      checks = numpy.array([ float(sympy.expand(ei.subs(nSoln))) for ei in eqns ])\n",
      "      if max([abs(ci) for ci in checks])<1.0e-12:\n",
      "         break\n",
      "      js = numpy.matrix([ [ float(sympy.expand(jij.subs(nSoln))) for jij in ji ] for ji in jacobian ])\n",
      "      step = numpy.linalg.solve(js,checks)\n",
      "      nSoln = { phis[i]:(nSoln[phis[i]]-step[i]) for i in range(len(phis)) }\n",
      "      if max([abs(si) for si in step])<1.0e-12:\n",
      "         break\n",
      "   return [ nSoln[phi] for phi in phis ]\n",
      "\n",
      "\n",
      "# approximate l1 loss\n",
      "def l1Loss(phis):\n",
      "    nps = 10000\n",
      "    k = len(phis)-1\n",
      "    kchoose = [ float(ncr(k,h)) for h in range(k+1) ]\n",
      "    pseq = [ pi/float(nps) for pi in range(nps+1) ]\n",
      "    def f(p):\n",
      "        if p<0 or p>1:\n",
      "            return float('inf')\n",
      "        return -sum([ p**h * (1.0-p)**(k-h) * kchoose[h] * abs(phis[h]-p) for h in range(k+1) ])\n",
      "    reg = max([ -f(p) for p in pseq ])\n",
      "    return reg"
     ],
     "language": "python",
     "metadata": {},
     "outputs": [],
     "prompt_number": 1
    },
    {
     "cell_type": "code",
     "collapsed": false,
     "input": [
      "k=2\n",
      "print 'analytic l2 solution for k=',k\n",
      "nSoln = solveForK(k)\n",
      "print nSoln\n",
      "print 'approximate numeric l1 solution for k=',k\n",
      "initialLoss = l1Loss(nSoln)\n",
      "print 'initial l1 loss',initialLoss\n",
      "nSoln[1] = 0.55\n",
      "print nSoln\n",
      "adjLoss = l1Loss(nSoln)\n",
      "print 'adjusted l1 loss',adjLoss\n",
      "print 'difference',initialLoss-adjLoss\n"
     ],
     "language": "python",
     "metadata": {},
     "outputs": [
      {
       "output_type": "stream",
       "stream": "stdout",
       "text": [
        "analytic l2 solution for k= 2\n",
        "*******************\n",
        "2\n",
        "\t"
       ]
      },
      {
       "output_type": "stream",
       "stream": "stdout",
       "text": [
        "phi_0_2 \t-1/2 + sqrt(2)/2 \t0.207106781187\n",
        "\tphi_1_2 \t1/2 \t0.5\n",
        "\tphi_2_2 \t-sqrt(2)/2 + 3/2 \t0.792893218813\n",
        "0.0428932188135\n",
        "*******************\n",
        "[0.20710678118654752, 0.5, 0.7928932188134524]\n",
        "approximate numeric l1 solution for k= 2\n",
        "initial l1 loss"
       ]
      },
      {
       "output_type": "stream",
       "stream": "stdout",
       "text": [
        " 0.207106781187\n",
        "[0.20710678118654752, 0.55, 0.7928932188134524]\n",
        "adjusted l1 loss"
       ]
      },
      {
       "output_type": "stream",
       "stream": "stdout",
       "text": [
        " 0.207106781187\n",
        "difference 0.0\n"
       ]
      }
     ],
     "prompt_number": 2
    },
    {
     "cell_type": "code",
     "collapsed": true,
     "input": [
      "for k in range(1,5):\n",
      "    print\n",
      "    print 'analytic l2 solution for k=',k\n",
      "    solveForK(k)\n",
      "    print 'numeric l2 solution for k=',k\n",
      "    nSoln = solveForKN(k)\n",
      "    print nSoln\n",
      "    print"
     ],
     "language": "python",
     "metadata": {},
     "outputs": [
      {
       "output_type": "stream",
       "stream": "stdout",
       "text": [
        "\n",
        "analytic l2 solution for k= 1\n",
        "*******************\n",
        "1\n",
        "\t"
       ]
      },
      {
       "output_type": "stream",
       "stream": "stdout",
       "text": [
        "phi_0_1 \t1/4 \t0.25\n",
        "\tphi_1_1 \t3/4 \t0.75\n",
        "0.0625\n",
        "*******************\n",
        "numeric l2 solution for k= 1\n",
        "[0.25, 0.75]\n",
        "\n",
        "\n",
        "analytic l2 solution for k= 2\n",
        "*******************\n",
        "2\n",
        "\t"
       ]
      },
      {
       "output_type": "stream",
       "stream": "stdout",
       "text": [
        "phi_0_2 \t-1/2 + sqrt(2)/2 \t0.207106781187\n",
        "\tphi_1_2 \t1/2 \t0.5\n",
        "\tphi_2_2 \t-sqrt(2)/2 + 3/2 \t0.792893218813\n",
        "0.0428932188135\n",
        "*******************\n",
        "numeric l2 solution for k= 2\n",
        "[0.20710678118654738, 0.49999999999999983, 0.79289321881345221]"
       ]
      },
      {
       "output_type": "stream",
       "stream": "stdout",
       "text": [
        "\n",
        "\n",
        "\n",
        "analytic l2 solution for k= 3\n",
        "*******************\n",
        "3\n",
        "\t"
       ]
      },
      {
       "output_type": "stream",
       "stream": "stdout",
       "text": [
        "phi_0_3 \t-1/4 + sqrt(3)/4 \t0.183012701892\n",
        "\tphi_1_3 \tsqrt(3)/12 + 1/4 \t0.394337567297\n",
        "\tphi_2_3 \t-sqrt(3)/12 + 3/4 \t0.605662432703\n",
        "\tphi_3_3 \t-sqrt(3)/4 + 5/4 \t0.816987298108\n",
        "0.0334936490539\n",
        "*******************\n",
        "numeric l2 solution for k= 3\n",
        "[0.18301270189221974, 0.39433756729740699, 0.60566243270259423, 0.8169872981077817]"
       ]
      },
      {
       "output_type": "stream",
       "stream": "stdout",
       "text": [
        "\n",
        "\n",
        "\n",
        "analytic l2 solution for k= 4\n",
        "*******************\n",
        "4\n",
        "\t"
       ]
      },
      {
       "output_type": "stream",
       "stream": "stdout",
       "text": [
        "phi_0_4 \t1/6 \t0.166666666667\n",
        "\tphi_1_4 \t1/3 \t0.333333333333\n",
        "\tphi_2_4 \t1/2 \t0.5\n",
        "\tphi_3_4 \t2/3 \t0.666666666667\n",
        "\tphi_4_4 \t5/6 \t0.833333333333\n",
        "0.0277777777778"
       ]
      },
      {
       "output_type": "stream",
       "stream": "stdout",
       "text": [
        "\n",
        "*******************\n",
        "numeric l2 solution for k= 4\n",
        "[0.16666666666666657, 0.33333333333333298, 0.49999999999999928, 0.66666666666666574, 0.83333333333333226]"
       ]
      },
      {
       "output_type": "stream",
       "stream": "stdout",
       "text": [
        "\n",
        "\n"
       ]
      }
     ],
     "prompt_number": 3
    },
    {
     "cell_type": "code",
     "collapsed": false,
     "input": [
      "for k in range(5,11):\n",
      "    print 'numeric l2 solution for k=',k\n",
      "    print solveForKN(k)"
     ],
     "language": "python",
     "metadata": {},
     "outputs": [
      {
       "output_type": "stream",
       "stream": "stdout",
       "text": [
        "numeric l2 solution for k= 5\n",
        "[0.15450849718749732, 0.29270509831249841, 0.43090169943749956, 0.56909830056250077, 0.70729490168750231, 0.84549150281250485]"
       ]
      },
      {
       "output_type": "stream",
       "stream": "stdout",
       "text": [
        "\n",
        "numeric l2 solution for k= 6\n",
        "[0.14494897427875081, 0.26329931618583163, 0.38164965809291207, 0.49999999999999173, 0.61835034190706983, 0.736700683814145, 0.85505102572121505]"
       ]
      },
      {
       "output_type": "stream",
       "stream": "stdout",
       "text": [
        "\n",
        "numeric l2 solution for k= 7\n",
        "[0.13714594258870808, 0.24081853042050227, 0.344491118252296, 0.44816370608408912, 0.55183629391588152, 0.65550888174767297, 0.75918146957946298, 0.86285405741124843]"
       ]
      },
      {
       "output_type": "stream",
       "stream": "stdout",
       "text": [
        "\n",
        "numeric l2 solution for k= 8\n",
        "[0.13060193748186366, 0.22295145311139491, 0.31530096874092589, 0.40765048437045631, 0.49999999999998584, 0.59234951562951332, 0.68469903125903675, 0.77704854688855263, 0.8693980625180614]"
       ]
      },
      {
       "output_type": "stream",
       "stream": "stdout",
       "text": [
        "\n",
        "numeric l2 solution for k= 9\n",
        "[0.12499999999993124, 0.20833333333325538, 0.29166666666657692, 0.37499999999989464, 0.45833333333320636, 0.54166666666650842, 0.62499999999979383, 0.70833333333304671, 0.79166666666622476, 0.87499999999922329]"
       ]
      },
      {
       "output_type": "stream",
       "stream": "stdout",
       "text": [
        "\n",
        "numeric l2 solution for k= 10\n",
        "[0.12012653667611538, 0.19610122934092272, 0.27207592200573305, 0.3480506146705476, 0.42402530733536842, 0.50000000000019862, 0.5759746926650432, 0.65194938532990943, 0.72792407799480374, 0.80389877065973081, 0.87987346332470762]"
       ]
      },
      {
       "output_type": "stream",
       "stream": "stdout",
       "text": [
        "\n"
       ]
      }
     ],
     "prompt_number": 4
    }
   ],
   "metadata": {}
  }
 ]
}