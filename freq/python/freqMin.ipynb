{
 "metadata": {
  "name": "",
  "signature": "sha256:4540e03a12ef6767af6a542b34bd4e4d04ba4c124c2160cb6e8bec0034ec7979"
 },
 "nbformat": 3,
 "nbformat_minor": 0,
 "worksheets": [
  {
   "cells": [
    {
     "cell_type": "code",
     "collapsed": false,
     "input": [
      "from sympy import *\n",
      "import numpy\n",
      "from fractions import Fraction\n",
      "import operator as op\n",
      "\n",
      "\n",
      "# ncr from http://stackoverflow.com/questions/4941753/is-there-a-math-ncr-function-in-python\n",
      "def ncr(n, r):\n",
      "    r = min(r, n-r)\n",
      "    if r == 0: return 1\n",
      "    numer = reduce(op.mul, xrange(n, n-r, -1))\n",
      "    denom = reduce(op.mul, xrange(1, r+1))\n",
      "    return numer//denom\n",
      "\n",
      "\n",
      "def numericSoln(si):\n",
      "    return { k:complex(si[k]).real for k in si.keys() }\n",
      "\n",
      "def isRealSoln(si):\n",
      "    return all([abs(complex(sij).imag)<1.0e-6 for sij in si.values()])\n",
      "\n",
      "def printsoln(phis,soln):\n",
      "   for phi in phis:\n",
      "      if phi in soln:\n",
      "         print '\\t',phi,'\\t',soln[phi]\n",
      "\n",
      "\n",
      "def printsolnN(phis,soln):\n",
      "   ns = numericSoln(soln)\n",
      "   for phi in phis:\n",
      "      if phi in soln:\n",
      "         print '\\t',phi,'\\t',soln[phi],'\\t',ns[phi]\n",
      "\n",
      "            \n",
      "            \n",
      "# for k flips of unknown coin solve for minimal max variance estimate schedule\n",
      "def solveForK(k):\n",
      "   p = symbols('p')\n",
      "   print '*******************'\n",
      "   print k\n",
      "   phis = [ symbols(str('phi_'+str(h) + '_' + str(k))) for h in range(k+1) ]\n",
      "   poly = sum([ p**h * (1-p)**(k-h) * ncr(k,h) * (phis[h]-p)**2 for h in range(k+1) ])\n",
      "   # print poly\n",
      "   # powers of p\n",
      "   polyTerms = collect(expand(poly),p,evaluate=False)\n",
      "   eqns = [ polyTerms[p**(pow+1)] for pow in range(len(polyTerms)-1) ]\n",
      "   #print eqns\n",
      "   soln1 = solve(eqns)\n",
      "   #print soln1\n",
      "   numSoln = [ numericSoln(si) for si in soln1 ]\n",
      "   viol = [ max([ abs(expand(eij.subs(si))) for eij in eqns ]) for si in numSoln ]\n",
      "   isReal = [ isRealSoln(si) for si in soln1 ]\n",
      "   costs = { i:abs(expand(poly.subs(numSoln[i]).subs({p:0}))) for i in range(len(numSoln)) if isReal[i] and viol[i]<1.0e-8 }\n",
      "   #print costs\n",
      "   minCost = min(costs.values())\n",
      "   index = [ i for i in costs.keys() if costs[i] <= minCost ][0]\n",
      "   soln = soln1[index]\n",
      "   printsolnN(phis,soln)\n",
      "   print abs(complex(expand(poly.subs(soln).subs({p:0}))))\n",
      "   print '*******************'\n",
      "   ns = numericSoln(soln)\n",
      "   return { str(k):ns[k] for k in ns.keys() }\n",
      "\n",
      "# solve numerically using Newton's zero finding method\n",
      "def solveForKN(k):\n",
      "   print '*******************'\n",
      "   print k\n",
      "   p = symbols('p')\n",
      "   phis = [ symbols(str('phi_'+str(h) + '_' + str(k))) for h in range(k+1) ]\n",
      "   poly = sum([ p**h * (1.0-p)**(k-h) * float(ncr(k,h)) * (phis[h]-p)**2 for h in range(k+1) ])\n",
      "   # print poly\n",
      "   # powers of p\n",
      "   polyTerms = collect(expand(poly),p,evaluate=False)\n",
      "   eqns = [ polyTerms[p**(pow+1)] for pow in range(len(polyTerms)-1) ]\n",
      "   jacobian = [ [ diff(eqi,phij) for phij in phis ] for eqi in eqns ]\n",
      "   nSoln = { phis[i]:((i+0.5)/(k+1.0)) for i in range(len(phis)) }\n",
      "   while True:\n",
      "      checks = numpy.array([ float(expand(ei.subs(nSoln))) for ei in eqns ])\n",
      "      if max([abs(ci) for ci in checks])<1.0e-12:\n",
      "         break\n",
      "      js = numpy.matrix([ [ float(expand(jij.subs(nSoln))) for jij in ji ] for ji in jacobian ])\n",
      "      step = numpy.linalg.solve(js,checks)\n",
      "      nSoln = { phis[i]:(nSoln[phis[i]]-step[i]) for i in range(len(phis)) }\n",
      "      if max([abs(si) for si in step])<1.0e-12:\n",
      "         break\n",
      "   printsoln(phis,nSoln)\n",
      "   return nSoln\n"
     ],
     "language": "python",
     "metadata": {},
     "outputs": [],
     "prompt_number": 21
    },
    {
     "cell_type": "code",
     "collapsed": true,
     "input": [
      "solveForK(1)"
     ],
     "language": "python",
     "metadata": {},
     "outputs": [
      {
       "output_type": "stream",
       "stream": "stdout",
       "text": [
        "*******************\n",
        "1\n",
        "\tphi_0_1 \t1/4 \t0.25\n",
        "\tphi_1_1 \t3/4 \t0.75\n",
        "0.0625\n",
        "*******************\n"
       ]
      },
      {
       "metadata": {},
       "output_type": "pyout",
       "prompt_number": 22,
       "text": [
        "{'phi_0_1': 0.25, 'phi_1_1': 0.75}"
       ]
      }
     ],
     "prompt_number": 22
    },
    {
     "cell_type": "code",
     "collapsed": false,
     "input": [
      "solveForKN(1)"
     ],
     "language": "python",
     "metadata": {},
     "outputs": [
      {
       "output_type": "stream",
       "stream": "stdout",
       "text": [
        "*******************\n",
        "1\n",
        "\tphi_0_1 \t0.25\n",
        "\tphi_1_1 \t0.75\n"
       ]
      },
      {
       "metadata": {},
       "output_type": "pyout",
       "prompt_number": 23,
       "text": [
        "{phi_0_1: 0.25, phi_1_1: 0.75}"
       ]
      }
     ],
     "prompt_number": 23
    },
    {
     "cell_type": "code",
     "collapsed": false,
     "input": [
      "solveForK(2)"
     ],
     "language": "python",
     "metadata": {},
     "outputs": [
      {
       "output_type": "stream",
       "stream": "stdout",
       "text": [
        "*******************\n",
        "2\n",
        "\t"
       ]
      },
      {
       "output_type": "stream",
       "stream": "stdout",
       "text": [
        "phi_0_2 \t-1/2 + sqrt(2)/2 \t0.207106781187\n",
        "\tphi_1_2 \t1/2 \t0.5\n",
        "\tphi_2_2 \t-sqrt(2)/2 + 3/2 \t0.792893218813\n",
        "0.0428932188135\n",
        "*******************\n"
       ]
      },
      {
       "metadata": {},
       "output_type": "pyout",
       "prompt_number": 24,
       "text": [
        "{'phi_0_2': 0.20710678118654752, 'phi_1_2': 0.5, 'phi_2_2': 0.7928932188134524}"
       ]
      }
     ],
     "prompt_number": 24
    },
    {
     "cell_type": "code",
     "collapsed": false,
     "input": [
      "solveForKN(2)"
     ],
     "language": "python",
     "metadata": {},
     "outputs": [
      {
       "output_type": "stream",
       "stream": "stdout",
       "text": [
        "*******************\n",
        "2\n",
        "\tphi_0_2 \t0.207106781187\n",
        "\tphi_1_2 \t0.5\n",
        "\tphi_2_2 \t0.792893218813\n"
       ]
      },
      {
       "metadata": {},
       "output_type": "pyout",
       "prompt_number": 25,
       "text": [
        "{phi_2_2: 0.79289321881345221,\n",
        " phi_0_2: 0.20710678118654738,\n",
        " phi_1_2: 0.49999999999999983}"
       ]
      }
     ],
     "prompt_number": 25
    },
    {
     "cell_type": "code",
     "collapsed": false,
     "input": [
      "solveForK(3)"
     ],
     "language": "python",
     "metadata": {},
     "outputs": [
      {
       "output_type": "stream",
       "stream": "stdout",
       "text": [
        "*******************\n",
        "3\n",
        "\t"
       ]
      },
      {
       "output_type": "stream",
       "stream": "stdout",
       "text": [
        "phi_0_3 \t-1/4 + sqrt(3)/4 \t0.183012701892\n",
        "\tphi_1_3 \tsqrt(3)/12 + 1/4 \t0.394337567297\n",
        "\tphi_2_3 \t-sqrt(3)/12 + 3/4 \t0.605662432703\n",
        "\tphi_3_3 \t-sqrt(3)/4 + 5/4 \t0.816987298108\n",
        "0.0334936490539\n",
        "*******************\n"
       ]
      },
      {
       "metadata": {},
       "output_type": "pyout",
       "prompt_number": 26,
       "text": [
        "{'phi_0_3': 0.18301270189221933,\n",
        " 'phi_1_3': 0.39433756729740643,\n",
        " 'phi_2_3': 0.6056624327025936,\n",
        " 'phi_3_3': 0.8169872981077807}"
       ]
      }
     ],
     "prompt_number": 26
    },
    {
     "cell_type": "code",
     "collapsed": false,
     "input": [
      "solveForKN(3)"
     ],
     "language": "python",
     "metadata": {},
     "outputs": [
      {
       "output_type": "stream",
       "stream": "stdout",
       "text": [
        "*******************\n",
        "3\n",
        "\t"
       ]
      },
      {
       "output_type": "stream",
       "stream": "stdout",
       "text": [
        "phi_0_3 \t0.183012701892\n",
        "\tphi_1_3 \t0.394337567297\n",
        "\tphi_2_3 \t0.605662432703\n",
        "\tphi_3_3 \t0.816987298108\n"
       ]
      },
      {
       "metadata": {},
       "output_type": "pyout",
       "prompt_number": 27,
       "text": [
        "{phi_3_3: 0.81698729810778192,\n",
        " phi_1_3: 0.39433756729740699,\n",
        " phi_2_3: 0.60566243270259434,\n",
        " phi_0_3: 0.18301270189221974}"
       ]
      }
     ],
     "prompt_number": 27
    },
    {
     "cell_type": "code",
     "collapsed": false,
     "input": [
      "solveForK(4)"
     ],
     "language": "python",
     "metadata": {},
     "outputs": [
      {
       "output_type": "stream",
       "stream": "stdout",
       "text": [
        "*******************\n",
        "4\n",
        "\t"
       ]
      },
      {
       "output_type": "stream",
       "stream": "stdout",
       "text": [
        "phi_0_4 \t1/6 \t0.166666666667\n",
        "\tphi_1_4 \t1/3 \t0.333333333333\n",
        "\tphi_2_4 \t1/2 \t0.5\n",
        "\tphi_3_4 \t2/3 \t0.666666666667\n",
        "\tphi_4_4 \t5/6 \t0.833333333333\n",
        "0.0277777777778\n",
        "*******************\n"
       ]
      },
      {
       "metadata": {},
       "output_type": "pyout",
       "prompt_number": 28,
       "text": [
        "{'phi_0_4': 0.16666666666666666,\n",
        " 'phi_1_4': 0.3333333333333333,\n",
        " 'phi_2_4': 0.5,\n",
        " 'phi_3_4': 0.6666666666666666,\n",
        " 'phi_4_4': 0.8333333333333334}"
       ]
      }
     ],
     "prompt_number": 28
    },
    {
     "cell_type": "code",
     "collapsed": false,
     "input": [
      "solveForKN(4)"
     ],
     "language": "python",
     "metadata": {},
     "outputs": [
      {
       "output_type": "stream",
       "stream": "stdout",
       "text": [
        "*******************\n",
        "4\n",
        "\t"
       ]
      },
      {
       "output_type": "stream",
       "stream": "stdout",
       "text": [
        "phi_0_4 \t0.166666666667\n",
        "\tphi_1_4 \t0.333333333333\n",
        "\tphi_2_4 \t0.5\n",
        "\tphi_3_4 \t0.666666666667\n",
        "\tphi_4_4 \t0.833333333333\n"
       ]
      },
      {
       "metadata": {},
       "output_type": "pyout",
       "prompt_number": 29,
       "text": [
        "{phi_0_4: 0.16666666666666768,\n",
        " phi_2_4: 0.50000000000000111,\n",
        " phi_4_4: 0.83333333333333526,\n",
        " phi_1_4: 0.33333333333333431,\n",
        " phi_3_4: 0.66666666666666807}"
       ]
      }
     ],
     "prompt_number": 29
    },
    {
     "cell_type": "code",
     "collapsed": false,
     "input": [
      "for k in range(5,11):\n",
      "    solveForKN(k)"
     ],
     "language": "python",
     "metadata": {},
     "outputs": [
      {
       "output_type": "stream",
       "stream": "stdout",
       "text": [
        "*******************\n",
        "5\n",
        "\t"
       ]
      },
      {
       "output_type": "stream",
       "stream": "stdout",
       "text": [
        "phi_0_5 \t0.154508497187\n",
        "\tphi_1_5 \t0.292705098312\n",
        "\tphi_2_5 \t0.430901699437\n",
        "\tphi_3_5 \t0.569098300562\n",
        "\tphi_4_5 \t0.707294901688\n",
        "\tphi_5_5 \t0.845491502813\n",
        "*******************\n",
        "6\n",
        "\t"
       ]
      },
      {
       "output_type": "stream",
       "stream": "stdout",
       "text": [
        "phi_0_6 \t0.144948974279\n",
        "\tphi_1_6 \t0.263299316186\n",
        "\tphi_2_6 \t0.381649658093\n",
        "\tphi_3_6 \t0.5\n",
        "\tphi_4_6 \t0.618350341907\n",
        "\tphi_5_6 \t0.736700683814\n",
        "\tphi_6_6 \t0.855051025721\n",
        "*******************\n",
        "7\n",
        "\t"
       ]
      },
      {
       "output_type": "stream",
       "stream": "stdout",
       "text": [
        "phi_0_7 \t0.137145942589\n",
        "\tphi_1_7 \t0.240818530421\n",
        "\tphi_2_7 \t0.344491118252\n",
        "\tphi_3_7 \t0.448163706084\n",
        "\tphi_4_7 \t0.551836293916\n",
        "\tphi_5_7 \t0.655508881748\n",
        "\tphi_6_7 \t0.759181469579\n",
        "\tphi_7_7 \t0.862854057411\n",
        "*******************\n",
        "8\n",
        "\t"
       ]
      },
      {
       "output_type": "stream",
       "stream": "stdout",
       "text": [
        "phi_0_8 \t0.130601937482\n",
        "\tphi_1_8 \t0.222951453111\n",
        "\tphi_2_8 \t0.315300968741\n",
        "\tphi_3_8 \t0.40765048437\n",
        "\tphi_4_8 \t0.5\n",
        "\tphi_5_8 \t0.592349515629\n",
        "\tphi_6_8 \t0.684699031259\n",
        "\tphi_7_8 \t0.777048546889\n",
        "\tphi_8_8 \t0.869398062518\n",
        "*******************\n",
        "9\n",
        "\t"
       ]
      },
      {
       "output_type": "stream",
       "stream": "stdout",
       "text": [
        "phi_0_9 \t0.125\n",
        "\tphi_1_9 \t0.208333333333\n",
        "\tphi_2_9 \t0.291666666667\n",
        "\tphi_3_9 \t0.375\n",
        "\tphi_4_9 \t0.458333333333\n",
        "\tphi_5_9 \t0.541666666667\n",
        "\tphi_6_9 \t0.625\n",
        "\tphi_7_9 \t0.708333333334\n",
        "\tphi_8_9 \t0.791666666667\n",
        "\tphi_9_9 \t0.875000000001\n",
        "*******************\n",
        "10\n",
        "\t"
       ]
      },
      {
       "output_type": "stream",
       "stream": "stdout",
       "text": [
        "phi_0_10 \t0.120126536676\n",
        "\tphi_1_10 \t0.196101229341\n",
        "\tphi_2_10 \t0.272075922005\n",
        "\tphi_3_10 \t0.34805061467\n",
        "\tphi_4_10 \t0.424025307335\n",
        "\tphi_5_10 \t0.499999999999\n",
        "\tphi_6_10 \t0.575974692664\n",
        "\tphi_7_10 \t0.651949385329\n",
        "\tphi_8_10 \t0.727924077993\n",
        "\tphi_9_10 \t0.803898770657\n",
        "\tphi_10_10 \t0.87987346332\n"
       ]
      }
     ],
     "prompt_number": 30
    }
   ],
   "metadata": {}
  }
 ]
}