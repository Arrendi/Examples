{
 "metadata": {
  "name": "",
  "signature": "sha256:66774d51fa01d6015b25840b5c99d319a996b51352a4adc3d59f361a48efd8cb"
 },
 "nbformat": 3,
 "nbformat_minor": 0,
 "worksheets": [
  {
   "cells": [
    {
     "cell_type": "code",
     "collapsed": false,
     "input": [
      "from sympy import *\n",
      "import numpy\n",
      "from fractions import Fraction\n",
      "import scipy\n",
      "import scipy.optimize\n",
      "import operator as op\n",
      "\n",
      "\n",
      "# ncr from http://stackoverflow.com/questions/4941753/is-there-a-math-ncr-function-in-python\n",
      "def ncr(n, r):\n",
      "    r = min(r, n-r)\n",
      "    if r == 0: return 1\n",
      "    numer = reduce(op.mul, xrange(n, n-r, -1))\n",
      "    denom = reduce(op.mul, xrange(1, r+1))\n",
      "    return numer//denom\n",
      "\n",
      "\n",
      "\n",
      "def numericSoln(si):\n",
      "    return { k:complex(si[k]).real for k in si.keys() }\n",
      "\n",
      "def isRealSoln(si):\n",
      "    return all([abs(complex(sij).imag)<1.0e-6 for sij in si.values()])\n",
      "\n",
      "def printsolnN(phis,soln):\n",
      "   ns = numericSoln(soln)\n",
      "   for phi in phis:\n",
      "      if phi in soln:\n",
      "         print '\\t',phi,'\\t',soln[phi],'\\t',ns[phi]\n",
      "\n",
      "            \n",
      "            \n",
      "# for k flips of unknown coin solve for minimal max variance estimate schedule\n",
      "def solveForK(k):\n",
      "   print '*******************'\n",
      "   print k\n",
      "   p = symbols('p')\n",
      "   phis = [ symbols(str('phi_'+str(h) + '_' + str(k))) for h in range(k+1) ]\n",
      "   poly = sum([ p**h * (1-p)**(k-h) * int(ncr(k,h)) * (phis[h]-p)**2 for h in range(k+1) ])\n",
      "   # print poly\n",
      "   # powers of p\n",
      "   polyTerms = collect(expand(poly),p,evaluate=False)\n",
      "   eqns = [ polyTerms[p**(pow+1)] for pow in range(len(polyTerms)-1) ]\n",
      "   #print eqns\n",
      "   soln1 = solve(eqns)\n",
      "   #print soln1\n",
      "   numSoln = [ numericSoln(si) for si in soln1 ]\n",
      "   viol = [ max([ abs(expand(eij.subs(si))) for eij in eqns ]) for si in numSoln ]\n",
      "   isReal = [ isRealSoln(si) for si in soln1 ]\n",
      "   costs = { i:abs(expand(poly.subs(numSoln[i]).subs({p:0}))) for i in range(len(numSoln)) if isReal[i] and viol[i]<1.0e-8 }\n",
      "   #print costs\n",
      "   minCost = min(costs.values())\n",
      "   index = [ i for i in costs.keys() if costs[i] <= minCost ][0]\n",
      "   soln = soln1[index]\n",
      "   printsolnN(phis,soln)\n",
      "   print abs(complex(expand(poly.subs(soln).subs({p:0}))))\n",
      "   print '*******************'\n",
      "   ns = numericSoln(soln)\n",
      "   return [ ns[phi] for phi in phis ]\n",
      "\n",
      "# solve numerically using Newton's zero finding method\n",
      "def solveForKN(k):\n",
      "   p = symbols('p')\n",
      "   phis = [ symbols(str('phi_'+str(h) + '_' + str(k))) for h in range(k+1) ]\n",
      "   poly = sum([ p**h * (1.0-p)**(k-h) * float(ncr(k,h)) * (phis[h]-p)**2 for h in range(k+1) ])\n",
      "   # print poly\n",
      "   # powers of p\n",
      "   polyTerms = collect(expand(poly),p,evaluate=False)\n",
      "   eqns = [ polyTerms[p**(pow+1)] for pow in range(len(polyTerms)-1) ]\n",
      "   jacobian = [ [ diff(eqi,phij) for phij in phis ] for eqi in eqns ]\n",
      "   nSoln = { phis[i]:((i+0.5)/(k+1.0)) for i in range(len(phis)) }\n",
      "   while True:\n",
      "      checks = numpy.array([ float(expand(ei.subs(nSoln))) for ei in eqns ])\n",
      "      if max([abs(ci) for ci in checks])<1.0e-12:\n",
      "         break\n",
      "      js = numpy.matrix([ [ float(expand(jij.subs(nSoln))) for jij in ji ] for ji in jacobian ])\n",
      "      step = numpy.linalg.solve(js,checks)\n",
      "      nSoln = { phis[i]:(nSoln[phis[i]]-step[i]) for i in range(len(phis)) }\n",
      "      if max([abs(si) for si in step])<1.0e-12:\n",
      "         break\n",
      "   return [ nSoln[phi] for phi in phis ]\n",
      "\n",
      "            \n",
      "# approximate l1 loss\n",
      "def l1Loss(phis):\n",
      "    nps = 10000\n",
      "    k = len(phis)-1\n",
      "    kchoose = [ float(ncr(k,h)) for h in range(k+1) ]\n",
      "    pseq = [ pi/float(nps) for pi in range(nps+1) ]\n",
      "    def f(p):\n",
      "        if p<0 or p>1:\n",
      "            return float('inf')\n",
      "        return -sum([ p**h * (1.0-p)**(k-h) * kchoose[h] * abs(phis[h]-p) for h in range(k+1) ])\n",
      "    reg = max([ -f(p) for p in pseq ])\n",
      "    return reg\n",
      "\n",
      "    "
     ],
     "language": "python",
     "metadata": {},
     "outputs": [],
     "prompt_number": 1
    },
    {
     "cell_type": "code",
     "collapsed": false,
     "input": [
      "k=2\n",
      "print 'analytic l2 solution for k=',k\n",
      "nSoln = solveForK(k)\n",
      "print nSoln\n",
      "print 'approximate numeric l1 solution for k=',k\n",
      "initialLoss = l1Loss(nSoln)\n",
      "print 'initial l1 loss',initialLoss\n",
      "nSoln[1] = 0.55\n",
      "print nSoln\n",
      "adjLoss = l1Loss(nSoln)\n",
      "print 'adjusted l1 loss',adjLoss\n",
      "print 'difference',initialLoss-adjLoss\n"
     ],
     "language": "python",
     "metadata": {},
     "outputs": [
      {
       "output_type": "stream",
       "stream": "stdout",
       "text": [
        "analytic l2 solution for k= 2\n",
        "*******************\n",
        "2\n",
        "\t"
       ]
      },
      {
       "output_type": "stream",
       "stream": "stdout",
       "text": [
        "phi_0_2 \t-1/2 + sqrt(2)/2 \t0.207106781187\n",
        "\tphi_1_2 \t1/2 \t0.5\n",
        "\tphi_2_2 \t-sqrt(2)/2 + 3/2 \t0.792893218813\n",
        "0.0428932188135\n",
        "*******************\n",
        "[0.20710678118654752, 0.5, 0.7928932188134524]\n",
        "approximate numeric l1 solution for k= 2\n",
        "initial l1 loss"
       ]
      },
      {
       "output_type": "stream",
       "stream": "stdout",
       "text": [
        " 0.207106781187\n",
        "[0.20710678118654752, 0.55, 0.7928932188134524]\n",
        "adjusted l1 loss"
       ]
      },
      {
       "output_type": "stream",
       "stream": "stdout",
       "text": [
        " 0.207106781187\n",
        "difference 0.0\n"
       ]
      }
     ],
     "prompt_number": 2
    },
    {
     "cell_type": "code",
     "collapsed": true,
     "input": [
      "for k in range(1,5):\n",
      "    print\n",
      "    print 'analytic l2 solution for k=',k\n",
      "    solveForK(k)\n",
      "    print 'numeric l2 solution for k=',k\n",
      "    nSoln = solveForKN(k)\n",
      "    print nSoln\n",
      "    print"
     ],
     "language": "python",
     "metadata": {},
     "outputs": [
      {
       "output_type": "stream",
       "stream": "stdout",
       "text": [
        "\n",
        "analytic l2 solution for k= 1\n",
        "*******************\n",
        "1\n",
        "\t"
       ]
      },
      {
       "output_type": "stream",
       "stream": "stdout",
       "text": [
        "phi_0_1 \t1/4 \t0.25\n",
        "\tphi_1_1 \t3/4 \t0.75\n",
        "0.0625\n",
        "*******************\n",
        "numeric l2 solution for k= 1\n",
        "[0.25, 0.75]\n",
        "\n",
        "\n",
        "analytic l2 solution for k= 2\n",
        "*******************\n",
        "2\n",
        "\t"
       ]
      },
      {
       "output_type": "stream",
       "stream": "stdout",
       "text": [
        "phi_0_2 \t-1/2 + sqrt(2)/2 \t0.207106781187\n",
        "\tphi_1_2 \t1/2 \t0.5\n",
        "\tphi_2_2 \t-sqrt(2)/2 + 3/2 \t0.792893218813\n",
        "0.0428932188135\n",
        "*******************\n",
        "numeric l2 solution for k= 2\n",
        "[0.20710678118654738, 0.49999999999999983, 0.79289321881345221]"
       ]
      },
      {
       "output_type": "stream",
       "stream": "stdout",
       "text": [
        "\n",
        "\n",
        "\n",
        "analytic l2 solution for k= 3\n",
        "*******************\n",
        "3\n",
        "\t"
       ]
      },
      {
       "output_type": "stream",
       "stream": "stdout",
       "text": [
        "phi_0_3 \t-1/4 + sqrt(3)/4 \t0.183012701892\n",
        "\tphi_1_3 \tsqrt(3)/12 + 1/4 \t0.394337567297\n",
        "\tphi_2_3 \t-sqrt(3)/12 + 3/4 \t0.605662432703\n",
        "\tphi_3_3 \t-sqrt(3)/4 + 5/4 \t0.816987298108\n",
        "0.0334936490539\n",
        "*******************\n",
        "numeric l2 solution for k= 3\n",
        "[0.18301270189221974, 0.39433756729740699, 0.60566243270259434, 0.81698729810778192]"
       ]
      },
      {
       "output_type": "stream",
       "stream": "stdout",
       "text": [
        "\n",
        "\n",
        "\n",
        "analytic l2 solution for k= 4\n",
        "*******************\n",
        "4\n",
        "\t"
       ]
      },
      {
       "output_type": "stream",
       "stream": "stdout",
       "text": [
        "phi_0_4 \t1/6 \t0.166666666667\n",
        "\tphi_1_4 \t1/3 \t0.333333333333\n",
        "\tphi_2_4 \t1/2 \t0.5\n",
        "\tphi_3_4 \t2/3 \t0.666666666667\n",
        "\tphi_4_4 \t5/6 \t0.833333333333\n",
        "0.0277777777778\n",
        "*******************\n",
        "numeric l2 solution for k="
       ]
      },
      {
       "output_type": "stream",
       "stream": "stdout",
       "text": [
        " 4\n",
        "[0.16666666666666768, 0.33333333333333431, 0.50000000000000111, 0.66666666666666807, 0.83333333333333526]"
       ]
      },
      {
       "output_type": "stream",
       "stream": "stdout",
       "text": [
        "\n",
        "\n"
       ]
      }
     ],
     "prompt_number": 3
    },
    {
     "cell_type": "code",
     "collapsed": false,
     "input": [
      "for k in range(5,11):\n",
      "    print 'numeric l2 solution for k=',k\n",
      "    print solveForKN(k)"
     ],
     "language": "python",
     "metadata": {},
     "outputs": [
      {
       "output_type": "stream",
       "stream": "stdout",
       "text": [
        "numeric l2 solution for k= 5\n",
        "[0.15450849718749685, 0.29270509831249786, 0.43090169943749879, 0.56909830056249966, 0.70729490168750031, 0.84549150281250052]"
       ]
      },
      {
       "output_type": "stream",
       "stream": "stdout",
       "text": [
        "\n",
        "numeric l2 solution for k= 6\n",
        "[0.14494897427875741, 0.26329931618583946, 0.38164965809292156, 0.500000000000004, 0.61835034190708682, 0.73670068381417098, 0.85505102572125735]"
       ]
      },
      {
       "output_type": "stream",
       "stream": "stdout",
       "text": [
        "\n",
        "numeric l2 solution for k= 7\n",
        "[0.13714594258870841, 0.24081853042050264, 0.34449111825229645, 0.44816370608408934, 0.55183629391588074, 0.65550888174766897, 0.75918146957945176, 0.86285405741122756]"
       ]
      },
      {
       "output_type": "stream",
       "stream": "stdout",
       "text": [
        "\n",
        "numeric l2 solution for k= 8\n",
        "[0.1306019374818575, 0.22295145311138789, 0.31530096874091768, 0.40765048437044638, 0.49999999999997313, 0.59234951562949656, 0.68469903125901432, 0.77704854688852543, 0.86939806251803797]"
       ]
      },
      {
       "output_type": "stream",
       "stream": "stdout",
       "text": [
        "\n",
        "numeric l2 solution for k= 9\n",
        "[0.12500000000008105, 0.20833333333342519, 0.29166666666677243, 0.37500000000012412, 0.45833333333348275, 0.5416666666668527, 0.62500000000024392, 0.70833333333367521, 0.79166666666717644, 0.87500000000077582]"
       ]
      },
      {
       "output_type": "stream",
       "stream": "stdout",
       "text": [
        "\n",
        "numeric l2 solution for k= 10\n",
        "[0.12012653667575041, 0.19610122934051302, 0.27207592200526709, 0.34805061467000892, 0.42402530733473265, 0.4999999999994279, 0.57597469266407486, 0.65194938532863334, 0.72792407799301684, 0.80389877065702275, 0.87987346332016558]"
       ]
      },
      {
       "output_type": "stream",
       "stream": "stdout",
       "text": [
        "\n"
       ]
      }
     ],
     "prompt_number": 4
    }
   ],
   "metadata": {}
  }
 ]
}