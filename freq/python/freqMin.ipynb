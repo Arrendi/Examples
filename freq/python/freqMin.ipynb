{
 "metadata": {
  "name": "",
  "signature": "sha256:6a4b5d1d8f41050b83a5c1346fac9affa9ee5dd3ecb017a47b09d1230455da7c"
 },
 "nbformat": 3,
 "nbformat_minor": 0,
 "worksheets": [
  {
   "cells": [
    {
     "cell_type": "code",
     "collapsed": false,
     "input": [
      "from sympy import *\n",
      "import numpy\n",
      "\n",
      "# from http://stackoverflow.com/questions/4941753/is-there-a-math-ncr-function-in-python\n",
      "import operator as op\n",
      "\n",
      "def ncr(n, r):\n",
      "    r = min(r, n-r)\n",
      "    if r == 0: return 1\n",
      "    numer = reduce(op.mul, xrange(n, n-r, -1))\n",
      "    denom = reduce(op.mul, xrange(1, r+1))\n",
      "    return numer//denom\n",
      "\n",
      "def realsoln(si):\n",
      "   return all([ abs(complex(sij).imag)<1.e-6 for sij in si.values() ])\n",
      "\n",
      "def printsoln(phis,soln):\n",
      "   for phi in phis:\n",
      "      print '\\t',phi,'\\t',soln[phi]\n",
      "\n",
      "p = symbols('p')\n",
      "\n",
      "def solveForK(k):\n",
      "   print '*******************'\n",
      "   print k\n",
      "   phis = [ symbols(str('phi_'+str(h) + '_' + str(k))) for h in range(k+1) ]\n",
      "   poly = sum([ p**h * (1-p)**(k-h) * ncr(k,h) * (phis[h]-p)**2 for h in range(k+1) ])\n",
      "   polyTerms = collect(expand(poly),p,evaluate=False)\n",
      "   eqns = [ polyTerms[p**(pow+1)] for pow in range(len(polyTerms)-1) ]\n",
      "   soln1 = solve(eqns)\n",
      "   dcterm = polyTerms[p**0]\n",
      "   costs = { i:float(expand(dcterm.subs(soln1[i]))) for i in range(len(soln1)) if realsoln(soln1[i]) }\n",
      "   minCost = min(costs.values())\n",
      "   index = [ i for i in costs.keys() if costs[i] <= minCost ][0]\n",
      "   soln = soln1[index]\n",
      "   printsoln(phis,soln)\n",
      "   print float(expand(dcterm.subs(soln)))\n",
      "   numsoln = { k:float(soln[k]) for k in soln.keys() }\n",
      "   printsoln(phis,numsoln)\n",
      "   print '*******************'\n",
      "   return soln"
     ],
     "language": "python",
     "metadata": {},
     "outputs": [],
     "prompt_number": 12
    },
    {
     "cell_type": "code",
     "collapsed": true,
     "input": [
      "solveForK(1)"
     ],
     "language": "python",
     "metadata": {},
     "outputs": [
      {
       "output_type": "stream",
       "stream": "stdout",
       "text": [
        "*******************\n",
        "1\n",
        "\tphi_0_1 \t1/4\n",
        "\tphi_1_1 \t3/4\n",
        "0.0625\n",
        "\tphi_0_1 \t0.25\n",
        "\tphi_1_1 \t0.75\n",
        "*******************\n"
       ]
      },
      {
       "metadata": {},
       "output_type": "pyout",
       "prompt_number": 13,
       "text": [
        "{phi_0_1: 1/4, phi_1_1: 3/4}"
       ]
      }
     ],
     "prompt_number": 13
    },
    {
     "cell_type": "code",
     "collapsed": false,
     "input": [
      "solveForK(2)"
     ],
     "language": "python",
     "metadata": {},
     "outputs": [
      {
       "output_type": "stream",
       "stream": "stdout",
       "text": [
        "*******************\n",
        "2\n",
        "\t"
       ]
      },
      {
       "output_type": "stream",
       "stream": "stdout",
       "text": [
        "phi_0_2 \t-1/2 + sqrt(2)/2\n",
        "\tphi_1_2 \t1/2\n",
        "\tphi_2_2 \t-sqrt(2)/2 + 3/2\n",
        "0.0428932188135\n",
        "\tphi_0_2 \t0.207106781187\n",
        "\tphi_1_2 \t0.5\n",
        "\tphi_2_2 \t0.792893218813\n",
        "*******************\n"
       ]
      },
      {
       "metadata": {},
       "output_type": "pyout",
       "prompt_number": 14,
       "text": [
        "{phi_2_2: -sqrt(2)/2 + 3/2, phi_0_2: -1/2 + sqrt(2)/2, phi_1_2: 1/2}"
       ]
      }
     ],
     "prompt_number": 14
    },
    {
     "cell_type": "code",
     "collapsed": false,
     "input": [
      "solveForK(3)"
     ],
     "language": "python",
     "metadata": {},
     "outputs": [
      {
       "output_type": "stream",
       "stream": "stdout",
       "text": [
        "*******************\n",
        "3\n",
        "\t"
       ]
      },
      {
       "output_type": "stream",
       "stream": "stdout",
       "text": [
        "phi_0_3 \t-1/4 + sqrt(3)/4\n",
        "\tphi_1_3 \tsqrt(3)/12 + 1/4\n",
        "\tphi_2_3 \t-sqrt(3)/12 + 3/4\n",
        "\tphi_3_3 \t-sqrt(3)/4 + 5/4\n",
        "0.0334936490539\n",
        "\tphi_0_3 \t0.183012701892\n",
        "\tphi_1_3 \t0.394337567297\n",
        "\tphi_2_3 \t0.605662432703\n",
        "\tphi_3_3 \t0.816987298108\n",
        "*******************\n"
       ]
      },
      {
       "metadata": {},
       "output_type": "pyout",
       "prompt_number": 15,
       "text": [
        "{phi_3_3: -sqrt(3)/4 + 5/4,\n",
        " phi_1_3: sqrt(3)/12 + 1/4,\n",
        " phi_2_3: -sqrt(3)/12 + 3/4,\n",
        " phi_0_3: -1/4 + sqrt(3)/4}"
       ]
      }
     ],
     "prompt_number": 15
    },
    {
     "cell_type": "code",
     "collapsed": false,
     "input": [
      "solveForK(4)"
     ],
     "language": "python",
     "metadata": {},
     "outputs": [
      {
       "output_type": "stream",
       "stream": "stdout",
       "text": [
        "*******************\n",
        "4\n",
        "\t"
       ]
      },
      {
       "output_type": "stream",
       "stream": "stdout",
       "text": [
        "phi_0_4 \t1/6\n",
        "\tphi_1_4 \t1/3\n",
        "\tphi_2_4 \t1/2\n",
        "\tphi_3_4 \t2/3\n",
        "\tphi_4_4 \t5/6\n",
        "0.0277777777778\n",
        "\tphi_0_4 \t0.166666666667\n",
        "\tphi_1_4 \t0.333333333333\n",
        "\tphi_2_4 \t0.5\n",
        "\tphi_3_4 \t0.666666666667\n",
        "\tphi_4_4 \t0.833333333333\n",
        "*******************\n"
       ]
      },
      {
       "metadata": {},
       "output_type": "pyout",
       "prompt_number": 16,
       "text": [
        "{phi_0_4: 1/6, phi_2_4: 1/2, phi_4_4: 5/6, phi_1_4: 1/3, phi_3_4: 2/3}"
       ]
      }
     ],
     "prompt_number": 16
    }
   ],
   "metadata": {}
  }
 ]
}